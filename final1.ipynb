{
  "cells": [
    {
      "cell_type": "markdown",
      "metadata": {
        "id": "view-in-github",
        "colab_type": "text"
      },
      "source": [
        "<a href=\"https://colab.research.google.com/github/Testgitchhub/-Brain-Tumor-Detection-ML/blob/main/final1.ipynb\" target=\"_parent\"><img src=\"https://colab.research.google.com/assets/colab-badge.svg\" alt=\"Open In Colab\"/></a>"
      ]
    },
    {
      "cell_type": "code",
      "execution_count": null,
      "metadata": {
        "colab": {
          "base_uri": "https://localhost:8080/"
        },
        "id": "8jMg4LKtvLRo",
        "outputId": "0aa49aa2-69b5-4d3f-9e55-528358687791"
      },
      "outputs": [
        {
          "name": "stdout",
          "output_type": "stream",
          "text": [
            "Requirement already satisfied: scikit-image in /usr/local/lib/python3.10/dist-packages (0.19.3)\n",
            "Requirement already satisfied: numpy>=1.17.0 in /usr/local/lib/python3.10/dist-packages (from scikit-image) (1.23.5)\n",
            "Requirement already satisfied: scipy>=1.4.1 in /usr/local/lib/python3.10/dist-packages (from scikit-image) (1.11.4)\n",
            "Requirement already satisfied: networkx>=2.2 in /usr/local/lib/python3.10/dist-packages (from scikit-image) (3.2.1)\n",
            "Requirement already satisfied: pillow!=7.1.0,!=7.1.1,!=8.3.0,>=6.1.0 in /usr/local/lib/python3.10/dist-packages (from scikit-image) (9.4.0)\n",
            "Requirement already satisfied: imageio>=2.4.1 in /usr/local/lib/python3.10/dist-packages (from scikit-image) (2.31.6)\n",
            "Requirement already satisfied: tifffile>=2019.7.26 in /usr/local/lib/python3.10/dist-packages (from scikit-image) (2023.12.9)\n",
            "Requirement already satisfied: PyWavelets>=1.1.1 in /usr/local/lib/python3.10/dist-packages (from scikit-image) (1.5.0)\n",
            "Requirement already satisfied: packaging>=20.0 in /usr/local/lib/python3.10/dist-packages (from scikit-image) (23.2)\n"
          ]
        }
      ],
      "source": [
        "pip install scikit-image"
      ]
    },
    {
      "cell_type": "code",
      "execution_count": null,
      "metadata": {
        "id": "6H8jSGmm7ZzR"
      },
      "outputs": [],
      "source": [
        "import os\n",
        "import cv2\n",
        "import numpy as np\n",
        "from sklearn.model_selection import train_test_split\n",
        "from sklearn.preprocessing import StandardScaler\n",
        "from sklearn.ensemble import RandomForestClassifier\n",
        "from sklearn.metrics import accuracy_score, precision_score, recall_score, f1_score\n",
        "from skimage.feature import hog\n",
        "from skimage import exposure\n",
        "from skimage import feature\n",
        "\n",
        "# Function to compute HOG features\n",
        "def compute_hog_features(images):\n",
        "    features = []\n",
        "    for img in images:\n",
        "        fd, hog_image = hog(img, orientations=8, pixels_per_cell=(16, 16), cells_per_block=(1, 1), visualize=True)\n",
        "        features.append(fd)\n",
        "    return np.array(features)\n",
        "\n",
        "# Function to compute LBP features\n",
        "def compute_lbp_features(images):\n",
        "    features = []\n",
        "    for img in images:\n",
        "        lbp = feature.local_binary_pattern(img, P=8, R=1)\n",
        "        hist, _ = np.histogram(lbp.ravel(), bins=np.arange(0, 10), range=(0, 10))\n",
        "        hist = hist.astype(\"float\")\n",
        "        hist /= (hist.sum() + 1e-7)\n",
        "        features.append(hist)\n",
        "    return np.array(features)\n",
        "\n",
        "# Function to augment data\n",
        "def augment_data(images, labels):\n",
        "    augmented_images = []\n",
        "    augmented_labels = []\n",
        "    for img, label in zip(images, labels):\n",
        "        augmented_images.append(img)\n",
        "        augmented_labels.append(label)\n",
        "\n",
        "        # Flip horizontally\n",
        "        flipped_img = cv2.flip(img, 1)\n",
        "        augmented_images.append(flipped_img)\n",
        "        augmented_labels.append(label)\n",
        "\n",
        "        # Rotate image by 45 degrees\n",
        "        rows, cols = img.shape\n",
        "        rotation_matrix = cv2.getRotationMatrix2D((cols / 2, rows / 2), 45, 1)\n",
        "        rotated_img = cv2.warpAffine(img, rotation_matrix, (cols, rows))\n",
        "        augmented_images.append(rotated_img)\n",
        "        augmented_labels.append(label)\n",
        "\n",
        "        # Crop image\n",
        "        cropped_img = img[10:110, 10:110]  # Adjust crop dimensions as needed\n",
        "        augmented_images.append(cropped_img)\n",
        "        augmented_labels.append(label)\n",
        "\n",
        "        # Apply Gaussian blur\n",
        "        img_blurred = cv2.GaussianBlur(img, (5, 5), 0)\n",
        "        augmented_images.append(img_blurred)\n",
        "        augmented_labels.append(label)\n",
        "\n",
        "        # Apply noise reduction\n",
        "        mean = 0\n",
        "        sigma = 25\n",
        "        gaussian_noise = np.random.normal(mean, sigma, img.shape)\n",
        "        noisy_img = np.clip((img + gaussian_noise), 0, 255).astype(np.uint8)\n",
        "        augmented_images.append(noisy_img)\n",
        "        augmented_labels.append(label)\n",
        "\n",
        "    # Ensure all images have the same shape\n",
        "    max_shape = max(image.shape for image in augmented_images)\n",
        "    augmented_images = [cv2.resize(image, (max_shape[1], max_shape[0])) for image in augmented_images]\n",
        "    return np.array(augmented_images), np.array(augmented_labels)\n",
        "\n",
        "# Specify the path to your dataset\n",
        "data_directory_tumor = \"/content/drive/MyDrive/Colab Notebooks/Mini project/brain_tumor_dataset/yes\"\n",
        "data_directory_non_tumor = \"/content/drive/MyDrive/Colab Notebooks/Mini project/brain_tumor_dataset/no\"\n",
        "\n",
        "# Initialize empty lists to store images and corresponding labels\n",
        "images = []\n",
        "labels = []\n",
        "\n",
        "# Load tumor images and assign label 1\n",
        "for filename in os.listdir(data_directory_tumor):\n",
        "    img_path = os.path.join(data_directory_tumor, filename)\n",
        "    img = cv2.imread(img_path, cv2.IMREAD_GRAYSCALE)\n",
        "    img = cv2.resize(img, (128, 128))\n",
        "\n",
        "    # Apply Gaussian blur\n",
        "    img_blurred = cv2.GaussianBlur(img, (5, 5), 0)\n",
        "\n",
        "    images.append(img_blurred)\n",
        "    labels.append(1)  # Tumor class\n",
        "\n",
        "# Load non-tumor images and assign label 0\n",
        "for filename in os.listdir(data_directory_non_tumor):\n",
        "    img_path = os.path.join(data_directory_non_tumor, filename)\n",
        "    img = cv2.imread(img_path, cv2.IMREAD_GRAYSCALE)\n",
        "    img = cv2.resize(img, (128, 128))\n",
        "\n",
        "    # Apply Gaussian blur\n",
        "    img_blurred = cv2.GaussianBlur(img, (5, 5), 0)\n",
        "\n",
        "    images.append(img_blurred)\n",
        "    labels.append(0)  # Non-tumor class\n",
        "\n",
        "# Convert lists to numpy arrays\n",
        "images = np.array(images)\n",
        "labels = np.array(labels)\n",
        "\n",
        "# Normalize the images\n",
        "images_normalized = images / 255.0  # Normalize pixel values to range [0, 1]\n",
        "\n",
        "# Compute HOG features\n",
        "hog_features = compute_hog_features(images_normalized)\n",
        "\n",
        "# Compute LBP features\n",
        "lbp_features = compute_lbp_features(images_normalized)\n",
        "\n",
        "# Combine HOG and LBP features\n",
        "all_features = np.hstack((hog_features, lbp_features))\n",
        "\n",
        "# Augment data\n",
        "augmented_images, augmented_labels = augment_data(images_normalized, labels)\n",
        "\n",
        "# Compute augmented HOG features\n",
        "hog_features_augmented = compute_hog_features(augmented_images)\n",
        "\n",
        "# Compute augmented LBP features\n",
        "lbp_features_augmented = compute_lbp_features(augmented_images)\n",
        "\n",
        "# Combine augmented HOG and LBP features\n",
        "augmented_features = np.hstack((hog_features_augmented, lbp_features_augmented))\n",
        "\n",
        "# Ensure the number of samples is consistent\n",
        "assert all_features.shape[0] == labels.shape[0], f\"Inconsistent number of samples between features ({all_features.shape[0]}) and labels ({labels.shape[0]})\"\n",
        "assert augmented_features.shape[0] == augmented_labels.shape[0], f\"Inconsistent number of samples between augmented features ({augmented_features.shape[0]}) and labels ({augmented_labels.shape[0]})\"\n",
        "\n",
        "# Combine original and augmented features\n",
        "all_features = np.vstack((all_features, augmented_features))\n",
        "all_labels = np.hstack((labels, augmented_labels))\n",
        "\n",
        "# Flatten the images\n",
        "images_flattened = all_features.reshape(all_features.shape[0], -1)\n",
        "\n",
        "# Split the dataset into training and testing sets (80% training, 20% testing)\n",
        "train_features, test_features, train_labels, test_labels = train_test_split(images_flattened, all_labels, test_size=0.2, random_state=42)\n"
      ]
    },
    {
      "cell_type": "code",
      "execution_count": null,
      "metadata": {
        "colab": {
          "background_save": true
        },
        "id": "EAj8mBM87ql2",
        "outputId": "0ef8d2bb-4360-4361-de1a-810cde00f866"
      },
      "outputs": [
        {
          "data": {
            "text/html": [
              "<style>#sk-container-id-1 {color: black;background-color: white;}#sk-container-id-1 pre{padding: 0;}#sk-container-id-1 div.sk-toggleable {background-color: white;}#sk-container-id-1 label.sk-toggleable__label {cursor: pointer;display: block;width: 100%;margin-bottom: 0;padding: 0.3em;box-sizing: border-box;text-align: center;}#sk-container-id-1 label.sk-toggleable__label-arrow:before {content: \"▸\";float: left;margin-right: 0.25em;color: #696969;}#sk-container-id-1 label.sk-toggleable__label-arrow:hover:before {color: black;}#sk-container-id-1 div.sk-estimator:hover label.sk-toggleable__label-arrow:before {color: black;}#sk-container-id-1 div.sk-toggleable__content {max-height: 0;max-width: 0;overflow: hidden;text-align: left;background-color: #f0f8ff;}#sk-container-id-1 div.sk-toggleable__content pre {margin: 0.2em;color: black;border-radius: 0.25em;background-color: #f0f8ff;}#sk-container-id-1 input.sk-toggleable__control:checked~div.sk-toggleable__content {max-height: 200px;max-width: 100%;overflow: auto;}#sk-container-id-1 input.sk-toggleable__control:checked~label.sk-toggleable__label-arrow:before {content: \"▾\";}#sk-container-id-1 div.sk-estimator input.sk-toggleable__control:checked~label.sk-toggleable__label {background-color: #d4ebff;}#sk-container-id-1 div.sk-label input.sk-toggleable__control:checked~label.sk-toggleable__label {background-color: #d4ebff;}#sk-container-id-1 input.sk-hidden--visually {border: 0;clip: rect(1px 1px 1px 1px);clip: rect(1px, 1px, 1px, 1px);height: 1px;margin: -1px;overflow: hidden;padding: 0;position: absolute;width: 1px;}#sk-container-id-1 div.sk-estimator {font-family: monospace;background-color: #f0f8ff;border: 1px dotted black;border-radius: 0.25em;box-sizing: border-box;margin-bottom: 0.5em;}#sk-container-id-1 div.sk-estimator:hover {background-color: #d4ebff;}#sk-container-id-1 div.sk-parallel-item::after {content: \"\";width: 100%;border-bottom: 1px solid gray;flex-grow: 1;}#sk-container-id-1 div.sk-label:hover label.sk-toggleable__label {background-color: #d4ebff;}#sk-container-id-1 div.sk-serial::before {content: \"\";position: absolute;border-left: 1px solid gray;box-sizing: border-box;top: 0;bottom: 0;left: 50%;z-index: 0;}#sk-container-id-1 div.sk-serial {display: flex;flex-direction: column;align-items: center;background-color: white;padding-right: 0.2em;padding-left: 0.2em;position: relative;}#sk-container-id-1 div.sk-item {position: relative;z-index: 1;}#sk-container-id-1 div.sk-parallel {display: flex;align-items: stretch;justify-content: center;background-color: white;position: relative;}#sk-container-id-1 div.sk-item::before, #sk-container-id-1 div.sk-parallel-item::before {content: \"\";position: absolute;border-left: 1px solid gray;box-sizing: border-box;top: 0;bottom: 0;left: 50%;z-index: -1;}#sk-container-id-1 div.sk-parallel-item {display: flex;flex-direction: column;z-index: 1;position: relative;background-color: white;}#sk-container-id-1 div.sk-parallel-item:first-child::after {align-self: flex-end;width: 50%;}#sk-container-id-1 div.sk-parallel-item:last-child::after {align-self: flex-start;width: 50%;}#sk-container-id-1 div.sk-parallel-item:only-child::after {width: 0;}#sk-container-id-1 div.sk-dashed-wrapped {border: 1px dashed gray;margin: 0 0.4em 0.5em 0.4em;box-sizing: border-box;padding-bottom: 0.4em;background-color: white;}#sk-container-id-1 div.sk-label label {font-family: monospace;font-weight: bold;display: inline-block;line-height: 1.2em;}#sk-container-id-1 div.sk-label-container {text-align: center;}#sk-container-id-1 div.sk-container {/* jupyter's `normalize.less` sets `[hidden] { display: none; }` but bootstrap.min.css set `[hidden] { display: none !important; }` so we also need the `!important` here to be able to override the default hidden behavior on the sphinx rendered scikit-learn.org. See: https://github.com/scikit-learn/scikit-learn/issues/21755 */display: inline-block !important;position: relative;}#sk-container-id-1 div.sk-text-repr-fallback {display: none;}</style><div id=\"sk-container-id-1\" class=\"sk-top-container\"><div class=\"sk-text-repr-fallback\"><pre>GridSearchCV(cv=5, estimator=RandomForestClassifier(random_state=42),\n",
              "             param_grid={&#x27;max_depth&#x27;: [None, 10, 20, 30],\n",
              "                         &#x27;min_samples_leaf&#x27;: [1, 2, 4],\n",
              "                         &#x27;min_samples_split&#x27;: [2, 5, 10],\n",
              "                         &#x27;n_estimators&#x27;: [100, 200, 300]})</pre><b>In a Jupyter environment, please rerun this cell to show the HTML representation or trust the notebook. <br />On GitHub, the HTML representation is unable to render, please try loading this page with nbviewer.org.</b></div><div class=\"sk-container\" hidden><div class=\"sk-item sk-dashed-wrapped\"><div class=\"sk-label-container\"><div class=\"sk-label sk-toggleable\"><input class=\"sk-toggleable__control sk-hidden--visually\" id=\"sk-estimator-id-1\" type=\"checkbox\" ><label for=\"sk-estimator-id-1\" class=\"sk-toggleable__label sk-toggleable__label-arrow\">GridSearchCV</label><div class=\"sk-toggleable__content\"><pre>GridSearchCV(cv=5, estimator=RandomForestClassifier(random_state=42),\n",
              "             param_grid={&#x27;max_depth&#x27;: [None, 10, 20, 30],\n",
              "                         &#x27;min_samples_leaf&#x27;: [1, 2, 4],\n",
              "                         &#x27;min_samples_split&#x27;: [2, 5, 10],\n",
              "                         &#x27;n_estimators&#x27;: [100, 200, 300]})</pre></div></div></div><div class=\"sk-parallel\"><div class=\"sk-parallel-item\"><div class=\"sk-item\"><div class=\"sk-label-container\"><div class=\"sk-label sk-toggleable\"><input class=\"sk-toggleable__control sk-hidden--visually\" id=\"sk-estimator-id-2\" type=\"checkbox\" ><label for=\"sk-estimator-id-2\" class=\"sk-toggleable__label sk-toggleable__label-arrow\">estimator: RandomForestClassifier</label><div class=\"sk-toggleable__content\"><pre>RandomForestClassifier(random_state=42)</pre></div></div></div><div class=\"sk-serial\"><div class=\"sk-item\"><div class=\"sk-estimator sk-toggleable\"><input class=\"sk-toggleable__control sk-hidden--visually\" id=\"sk-estimator-id-3\" type=\"checkbox\" ><label for=\"sk-estimator-id-3\" class=\"sk-toggleable__label sk-toggleable__label-arrow\">RandomForestClassifier</label><div class=\"sk-toggleable__content\"><pre>RandomForestClassifier(random_state=42)</pre></div></div></div></div></div></div></div></div></div></div>"
            ],
            "text/plain": [
              "GridSearchCV(cv=5, estimator=RandomForestClassifier(random_state=42),\n",
              "             param_grid={'max_depth': [None, 10, 20, 30],\n",
              "                         'min_samples_leaf': [1, 2, 4],\n",
              "                         'min_samples_split': [2, 5, 10],\n",
              "                         'n_estimators': [100, 200, 300]})"
            ]
          },
          "execution_count": 3,
          "metadata": {},
          "output_type": "execute_result"
        }
      ],
      "source": [
        "from sklearn.model_selection import GridSearchCV\n",
        "rf_classifier = RandomForestClassifier(random_state=42)\n",
        "param_grid={\n",
        "    'n_estimators': [100, 200, 300],\n",
        "    'max_depth': [None, 10, 20, 30],\n",
        "    'min_samples_split': [2, 5, 10],\n",
        "    'min_samples_leaf': [1, 2, 4]\n",
        "}\n",
        "grid_search = GridSearchCV(rf_classifier, param_grid, cv=5)\n",
        "grid_search.fit(train_features, train_labels)"
      ]
    },
    {
      "cell_type": "code",
      "execution_count": null,
      "metadata": {
        "colab": {
          "base_uri": "https://localhost:8080/"
        },
        "id": "7LCQNUUZ7xfo",
        "outputId": "79f2d7df-8e3f-4c13-961f-350eb3d985e8"
      },
      "outputs": [
        {
          "output_type": "execute_result",
          "data": {
            "text/plain": [
              "{'max_depth': None,\n",
              " 'min_samples_leaf': 1,\n",
              " 'min_samples_split': 2,\n",
              " 'n_estimators': 100}"
            ]
          },
          "metadata": {},
          "execution_count": 4
        }
      ],
      "source": [
        "grid_search.best_params_"
      ]
    },
    {
      "cell_type": "code",
      "execution_count": null,
      "metadata": {
        "id": "uqDn9ZPa74bR"
      },
      "outputs": [],
      "source": [
        "model=RandomForestClassifier(random_state=42,max_depth= 10, n_estimators= 200)"
      ]
    },
    {
      "cell_type": "code",
      "execution_count": null,
      "metadata": {
        "colab": {
          "base_uri": "https://localhost:8080/"
        },
        "id": "gAIEKBR-75_M",
        "outputId": "1b62aa36-3347-46d6-909e-b3c26d6bc59b"
      },
      "outputs": [
        {
          "output_type": "execute_result",
          "data": {
            "text/plain": [
              "array([0.80102801, 0.79341737, 0.78112309])"
            ]
          },
          "metadata": {},
          "execution_count": 6
        }
      ],
      "source": [
        "from sklearn.model_selection import cross_val_score\n",
        "scores=cross_val_score(model,images_flattened,all_labels,cv=3,scoring='f1_macro')\n",
        "scores"
      ]
    },
    {
      "cell_type": "code",
      "execution_count": null,
      "metadata": {
        "colab": {
          "base_uri": "https://localhost:8080/"
        },
        "id": "AqZHv9EMFcM5",
        "outputId": "3358e05e-453a-40af-d9ec-9a7997a12f75"
      },
      "outputs": [
        {
          "name": "stdout",
          "output_type": "stream",
          "text": [
            "Precision: 0.8562\n",
            "Recall: 0.7803\n",
            "F1 Score: 0.7956\n"
          ]
        }
      ],
      "source": [
        "from sklearn.model_selection import cross_val_predict\n",
        "from sklearn.metrics import precision_recall_fscore_support\n",
        "\n",
        "# Assuming 'model' is the RandomForestClassifier instance you created\n",
        "model = RandomForestClassifier(random_state=42, max_depth=10, n_estimators=200)\n",
        "\n",
        "# Perform cross-validation and get predictions\n",
        "predicted_labels = cross_val_predict(model, images_flattened, all_labels, cv=3)\n",
        "\n",
        "# Calculate precision, recall, and F1 score\n",
        "precision, recall, f1, _ = precision_recall_fscore_support(all_labels, predicted_labels, average='macro')\n",
        "\n",
        "# Print the results\n",
        "print(f\"Precision: {precision:.4f}\")\n",
        "print(f\"Recall: {recall:.4f}\")\n",
        "print(f\"F1 Score: {f1:.4f}\")\n",
        "\n",
        "\n"
      ]
    },
    {
      "cell_type": "code",
      "execution_count": null,
      "metadata": {
        "colab": {
          "background_save": true
        },
        "id": "Ikb9UsHT8AZX",
        "outputId": "fe308b0b-80aa-4bd6-9840-1da069f1803c"
      },
      "outputs": [
        {
          "data": {
            "text/plain": [
              "array([0.9334617 , 0.7107382 , 0.80496961, 0.82980769, 0.76376376])"
            ]
          },
          "execution_count": 7,
          "metadata": {},
          "output_type": "execute_result"
        }
      ],
      "source": [
        "scores=cross_val_score(model,images_flattened,all_labels,cv=5,scoring='f1_macro')\n",
        "scores"
      ]
    },
    {
      "cell_type": "code",
      "execution_count": null,
      "metadata": {
        "colab": {
          "base_uri": "https://localhost:8080/"
        },
        "id": "-Wjy-p-qcgNp",
        "outputId": "f3c67818-2b91-4f09-dd9b-5d035e12f348"
      },
      "outputs": [
        {
          "name": "stdout",
          "output_type": "stream",
          "text": [
            "Precision: 0.8702\n",
            "Recall: 0.8020\n",
            "F1 Score: 0.8179\n"
          ]
        }
      ],
      "source": [
        "from sklearn.model_selection import cross_val_predict\n",
        "from sklearn.metrics import precision_recall_fscore_support\n",
        "\n",
        "# Assuming 'model' is the RandomForestClassifier instance you created\n",
        "model = RandomForestClassifier(random_state=42, max_depth=10, n_estimators=200)\n",
        "\n",
        "# Perform cross-validation and get predictions\n",
        "predicted_labels = cross_val_predict(model, images_flattened, all_labels, cv=5)\n",
        "\n",
        "# Calculate precision, recall, and F1 score\n",
        "precision, recall, f1, _ = precision_recall_fscore_support(all_labels, predicted_labels, average='macro')\n",
        "\n",
        "# Print the results\n",
        "print(f\"Precision: {precision:.4f}\")\n",
        "print(f\"Recall: {recall:.4f}\")\n",
        "print(f\"F1 Score: {f1:.4f}\")\n"
      ]
    },
    {
      "cell_type": "code",
      "execution_count": null,
      "metadata": {
        "colab": {
          "base_uri": "https://localhost:8080/"
        },
        "id": "sWtp0fjR8Dk_",
        "outputId": "1c2824ad-ec17-4c6b-a075-35650da1db59"
      },
      "outputs": [
        {
          "data": {
            "text/plain": [
              "array([0.98743565, 0.71850061, 0.72349727, 0.81840367, 0.86060606,\n",
              "       0.81594646, 0.78102203])"
            ]
          },
          "execution_count": 13,
          "metadata": {},
          "output_type": "execute_result"
        }
      ],
      "source": [
        "scores=cross_val_score(model,images_flattened,all_labels,cv=7,scoring='f1_macro')\n",
        "scores"
      ]
    },
    {
      "cell_type": "code",
      "execution_count": null,
      "metadata": {
        "colab": {
          "base_uri": "https://localhost:8080/"
        },
        "id": "aRbYQkL2cry0",
        "outputId": "8d25386f-8dd0-449f-d779-799f3b77bb29"
      },
      "outputs": [
        {
          "name": "stdout",
          "output_type": "stream",
          "text": [
            "Precision: 0.8779\n",
            "Recall: 0.8035\n",
            "F1 Score: 0.8202\n"
          ]
        }
      ],
      "source": [
        "from sklearn.model_selection import cross_val_predict\n",
        "from sklearn.metrics import precision_recall_fscore_support\n",
        "\n",
        "# Assuming 'model' is the RandomForestClassifier instance you created\n",
        "model = RandomForestClassifier(random_state=42, max_depth=10, n_estimators=200)\n",
        "\n",
        "# Perform cross-validation and get predictions\n",
        "predicted_labels = cross_val_predict(model, images_flattened, all_labels, cv=7)\n",
        "\n",
        "# Calculate precision, recall, and F1 score\n",
        "precision, recall, f1, _ = precision_recall_fscore_support(all_labels, predicted_labels, average='macro')\n",
        "\n",
        "# Print the results\n",
        "print(f\"Precision: {precision:.4f}\")\n",
        "print(f\"Recall: {recall:.4f}\")\n",
        "print(f\"F1 Score: {f1:.4f}\")\n"
      ]
    },
    {
      "cell_type": "code",
      "execution_count": null,
      "metadata": {
        "colab": {
          "base_uri": "https://localhost:8080/"
        },
        "id": "Qc1dsv7C8J5k",
        "outputId": "2406f4c2-d7a1-4987-df98-529f4cdf9045"
      },
      "outputs": [
        {
          "data": {
            "text/plain": [
              "array([0.9881016 , 0.90655686, 0.69985465, 0.77406877, 0.7868112 ,\n",
              "       0.83179825, 0.87193798, 0.83474576, 0.74668317, 0.75315573])"
            ]
          },
          "execution_count": 15,
          "metadata": {},
          "output_type": "execute_result"
        }
      ],
      "source": [
        "scores=cross_val_score(model,images_flattened,all_labels,cv=10,scoring='f1_macro')\n",
        "scores"
      ]
    },
    {
      "cell_type": "code",
      "execution_count": null,
      "metadata": {
        "colab": {
          "base_uri": "https://localhost:8080/"
        },
        "id": "nXUZNLadGAka",
        "outputId": "69ae3250-8cb1-4d4b-e95e-354ada9bc332"
      },
      "outputs": [
        {
          "name": "stdout",
          "output_type": "stream",
          "text": [
            "Precision: 0.8782\n",
            "Recall: 0.8077\n",
            "F1 Score: 0.8242\n"
          ]
        }
      ],
      "source": [
        "from sklearn.model_selection import cross_val_predict\n",
        "from sklearn.metrics import precision_recall_fscore_support\n",
        "\n",
        "# Assuming 'model' is the RandomForestClassifier instance you created\n",
        "model = RandomForestClassifier(random_state=42, max_depth=10, n_estimators=200)\n",
        "\n",
        "# Perform cross-validation and get predictions\n",
        "predicted_labels = cross_val_predict(model, images_flattened, all_labels, cv=10)\n",
        "\n",
        "# Calculate precision, recall, and F1 score\n",
        "precision, recall, f1, _ = precision_recall_fscore_support(all_labels, predicted_labels, average='macro')\n",
        "\n",
        "# Print the results\n",
        "print(f\"Precision: {precision:.4f}\")\n",
        "print(f\"Recall: {recall:.4f}\")\n",
        "print(f\"F1 Score: {f1:.4f}\")\n",
        "\n"
      ]
    },
    {
      "cell_type": "code",
      "execution_count": null,
      "metadata": {
        "colab": {
          "base_uri": "https://localhost:8080/",
          "height": 428
        },
        "id": "872jvczSUFm2",
        "outputId": "f924c0f6-e7fa-4391-de9e-9bae9419a855"
      },
      "outputs": [
        {
          "output_type": "display_data",
          "data": {
            "text/plain": [
              "<Figure size 640x480 with 1 Axes>"
            ],
            "image/png": "[encoded data removed]"
          },
          "metadata": {}
        }
      ],
      "source": [
        "import cv2\n",
        "import matplotlib.pyplot as plt\n",
        "import numpy as np\n",
        "from skimage.feature import hog\n",
        "from skimage import feature\n",
        "\n",
        "# Function to compute HOG features\n",
        "def compute_hog_features(images):\n",
        "    features = []\n",
        "    for img in images:\n",
        "        fd, hog_image = hog(img, orientations=8, pixels_per_cell=(16, 16), cells_per_block=(1, 1), visualize=True)\n",
        "        features.append(fd)\n",
        "    return np.array(features)\n",
        "\n",
        "# Function to compute LBP features\n",
        "def compute_lbp_features(images):\n",
        "    features = []\n",
        "    for img in images:\n",
        "        lbp = feature.local_binary_pattern(img, P=8, R=1)\n",
        "        hist, _ = np.histogram(lbp.ravel(), bins=np.arange(0, 10), range=(0, 10))\n",
        "        hist = hist.astype(\"float\")\n",
        "        hist /= (hist.sum() + 1e-7)\n",
        "        features.append(hist)\n",
        "    return np.array(features)\n",
        "\n",
        "# Function to predict tumor presence in a given image and display the result\n",
        "def predict_tumor_and_display(image_path, trained_model):\n",
        "    # Load the trained model\n",
        "    model = trained_model\n",
        "\n",
        "    # Read and preprocess the input image\n",
        "    input_image = cv2.imread(image_path, cv2.IMREAD_GRAYSCALE)\n",
        "    input_image = cv2.resize(input_image, (128, 128))\n",
        "\n",
        "    # Apply Gaussian blur\n",
        "    img_blurred = cv2.GaussianBlur(input_image, (5, 5), 0)\n",
        "\n",
        "    # Compute HOG features for the input image\n",
        "    input_hog_features = compute_hog_features([img_blurred])\n",
        "\n",
        "    # Compute LBP features for the input image\n",
        "    input_lbp_features = compute_lbp_features([img_blurred])\n",
        "\n",
        "    # Combine HOG and LBP features for the input image\n",
        "    input_features = np.hstack((input_hog_features, input_lbp_features))\n",
        "\n",
        "    # Flatten the input features\n",
        "    input_features_flattened = input_features.reshape(1, -1)\n",
        "\n",
        "    # Make predictions using the trained model\n",
        "    # Assuming you have split your data into train_features, train_label\n",
        "    model.fit(train_features, train_labels)\n",
        "\n",
        "    prediction = model.predict(input_features_flattened)\n",
        "\n",
        "    # Display the image along with the prediction\n",
        "    plt.imshow(input_image, cmap='gray')\n",
        "    plt.title(f'Prediction: {\"Tumor\" if prediction[0] == 1 else \"No Tumor\"}')\n",
        "    plt.axis('off')\n",
        "    plt.show()\n",
        "\n",
        "# Example usage\n",
        "image_path_to_predict = \"/content/drive/MyDrive/Colab Notebooks/Mini project/brain_tumor_dataset/no/1 no.jpeg\"\n",
        "predict_tumor_and_display(image_path_to_predict, model)\n",
        "\n",
        "\n"
      ]
    },
    {
      "cell_type": "code",
      "execution_count": null,
      "metadata": {
        "id": "L9_kpFHpr2WV"
      },
      "outputs": [],
      "source": [
        "import cv2\n",
        "import matplotlib.pyplot as plt\n",
        "import numpy as np\n",
        "from skimage.feature import hog\n",
        "from skimage import feature\n",
        "\n",
        "# Function to compute HOG features\n",
        "def compute_hog_features(images):\n",
        "    features = []\n",
        "    for img in images:\n",
        "        fd, hog_image = hog(img, orientations=8, pixels_per_cell=(16, 16), cells_per_block=(1, 1), visualize=True)\n",
        "        features.append(fd)\n",
        "    return np.array(features)\n",
        "\n",
        "# Function to compute LBP features\n",
        "def compute_lbp_features(images):\n",
        "    features = []\n",
        "    for img in images:\n",
        "        lbp = feature.local_binary_pattern(img, P=8, R=1)\n",
        "        hist, _ = np.histogram(lbp.ravel(), bins=np.arange(0, 10), range=(0, 10))\n",
        "        hist = hist.astype(\"float\")\n",
        "        hist /= (hist.sum() + 1e-7)\n",
        "        features.append(hist)\n",
        "    return np.array(features)\n",
        "\n",
        "# Function to predict tumor presence in a given image and display the result\n",
        "def predict_tumor_and_display(image_path, trained_model):\n",
        "    # Load the trained model\n",
        "    model = trained_model\n",
        "\n",
        "    # Read and preprocess the input image\n",
        "    input_image = cv2.imread(image_path, cv2.IMREAD_GRAYSCALE)\n",
        "    input_image = cv2.resize(input_image, (128, 128))\n",
        "\n",
        "    # Apply Gaussian blur\n",
        "    img_blurred = cv2.GaussianBlur(input_image, (5, 5), 0)\n",
        "\n",
        "    # Compute HOG features for the input image\n",
        "    input_hog_features = compute_hog_features([img_blurred])\n",
        "\n",
        "    # Compute LBP features for the input image\n",
        "    input_lbp_features = compute_lbp_features([img_blurred])\n",
        "\n",
        "    # Combine HOG and LBP features for the input image\n",
        "    input_features = np.hstack((input_hog_features, input_lbp_features))\n",
        "\n",
        "    # Flatten the input features\n",
        "    input_features_flattened = input_features.reshape(1, -1)\n",
        "\n",
        "    # Make predictions using the trained model\n",
        "    prediction = model.predict(input_features_flattened)\n",
        "\n",
        "    # Display the image along with the prediction\n",
        "    plt.imshow(input_image, cmap='gray')\n",
        "    plt.title(f'Prediction: {\"Tumor\" if prediction[0] == 1 else \"No Tumor\"}')\n",
        "    plt.axis('off')\n",
        "    plt.show()\n",
        "\n",
        "# Example usage\n",
        "image_path_to_predict = \"/content/drive/MyDrive/Colab Notebooks/Mini project/brain_tumor_dataset/no/1 no.jpeg\"\n",
        "predict_tumor_and_display(image_path_to_predict, model)\n"
      ]
    },
    {
      "cell_type": "code",
      "execution_count": null,
      "metadata": {
        "id": "r0VTIjlhGgM8"
      },
      "outputs": [],
      "source": [
        "from sklearn.linear_model import LogisticRegression"
      ]
    },
    {
      "cell_type": "code",
      "execution_count": null,
      "metadata": {
        "id": "UKeiIccHGi_c"
      },
      "outputs": [],
      "source": [
        "logistic_classifier = LogisticRegression(random_state=42)"
      ]
    },
    {
      "cell_type": "code",
      "execution_count": null,
      "metadata": {
        "id": "PiLB4biWGl0N"
      },
      "outputs": [],
      "source": [
        "from sklearn.model_selection import GridSearchCV\n",
        "param_grid = {'C': [0.1, 1, 10, 100]}  # Example values for the regularization parameter C\n",
        "cls=LogisticRegression()\n",
        "grid3=GridSearchCV(cls,param_grid,cv=5)"
      ]
    },
    {
      "cell_type": "code",
      "execution_count": null,
      "metadata": {
        "colab": {
          "base_uri": "https://localhost:8080/",
          "height": 2616
        },
        "id": "q3FYHyzBGpoI",
        "outputId": "4160ac59-6744-420c-9d83-81c1006df6a3"
      },
      "outputs": [
        {
          "name": "stderr",
          "output_type": "stream",
          "text": [
            "/usr/local/lib/python3.10/dist-packages/sklearn/linear_model/_logistic.py:458: ConvergenceWarning: lbfgs failed to converge (status=1):\n",
            "STOP: TOTAL NO. of ITERATIONS REACHED LIMIT.\n",
            "\n",
            "Increase the number of iterations (max_iter) or scale the data as shown in:\n",
            "    https://scikit-learn.org/stable/modules/preprocessing.html\n",
            "Please also refer to the documentation for alternative solver options:\n",
            "    https://scikit-learn.org/stable/modules/linear_model.html#logistic-regression\n",
            "  n_iter_i = _check_optimize_result(\n",
            "/usr/local/lib/python3.10/dist-packages/sklearn/linear_model/_logistic.py:458: ConvergenceWarning: lbfgs failed to converge (status=1):\n",
            "STOP: TOTAL NO. of ITERATIONS REACHED LIMIT.\n",
            "\n",
            "Increase the number of iterations (max_iter) or scale the data as shown in:\n",
            "    https://scikit-learn.org/stable/modules/preprocessing.html\n",
            "Please also refer to the documentation for alternative solver options:\n",
            "    https://scikit-learn.org/stable/modules/linear_model.html#logistic-regression\n",
            "  n_iter_i = _check_optimize_result(\n",
            "/usr/local/lib/python3.10/dist-packages/sklearn/linear_model/_logistic.py:458: ConvergenceWarning: lbfgs failed to converge (status=1):\n",
            "STOP: TOTAL NO. of ITERATIONS REACHED LIMIT.\n",
            "\n",
            "Increase the number of iterations (max_iter) or scale the data as shown in:\n",
            "    https://scikit-learn.org/stable/modules/preprocessing.html\n",
            "Please also refer to the documentation for alternative solver options:\n",
            "    https://scikit-learn.org/stable/modules/linear_model.html#logistic-regression\n",
            "  n_iter_i = _check_optimize_result(\n",
            "/usr/local/lib/python3.10/dist-packages/sklearn/linear_model/_logistic.py:458: ConvergenceWarning: lbfgs failed to converge (status=1):\n",
            "STOP: TOTAL NO. of ITERATIONS REACHED LIMIT.\n",
            "\n",
            "Increase the number of iterations (max_iter) or scale the data as shown in:\n",
            "    https://scikit-learn.org/stable/modules/preprocessing.html\n",
            "Please also refer to the documentation for alternative solver options:\n",
            "    https://scikit-learn.org/stable/modules/linear_model.html#logistic-regression\n",
            "  n_iter_i = _check_optimize_result(\n",
            "/usr/local/lib/python3.10/dist-packages/sklearn/linear_model/_logistic.py:458: ConvergenceWarning: lbfgs failed to converge (status=1):\n",
            "STOP: TOTAL NO. of ITERATIONS REACHED LIMIT.\n",
            "\n",
            "Increase the number of iterations (max_iter) or scale the data as shown in:\n",
            "    https://scikit-learn.org/stable/modules/preprocessing.html\n",
            "Please also refer to the documentation for alternative solver options:\n",
            "    https://scikit-learn.org/stable/modules/linear_model.html#logistic-regression\n",
            "  n_iter_i = _check_optimize_result(\n",
            "/usr/local/lib/python3.10/dist-packages/sklearn/linear_model/_logistic.py:458: ConvergenceWarning: lbfgs failed to converge (status=1):\n",
            "STOP: TOTAL NO. of ITERATIONS REACHED LIMIT.\n",
            "\n",
            "Increase the number of iterations (max_iter) or scale the data as shown in:\n",
            "    https://scikit-learn.org/stable/modules/preprocessing.html\n",
            "Please also refer to the documentation for alternative solver options:\n",
            "    https://scikit-learn.org/stable/modules/linear_model.html#logistic-regression\n",
            "  n_iter_i = _check_optimize_result(\n",
            "/usr/local/lib/python3.10/dist-packages/sklearn/linear_model/_logistic.py:458: ConvergenceWarning: lbfgs failed to converge (status=1):\n",
            "STOP: TOTAL NO. of ITERATIONS REACHED LIMIT.\n",
            "\n",
            "Increase the number of iterations (max_iter) or scale the data as shown in:\n",
            "    https://scikit-learn.org/stable/modules/preprocessing.html\n",
            "Please also refer to the documentation for alternative solver options:\n",
            "    https://scikit-learn.org/stable/modules/linear_model.html#logistic-regression\n",
            "  n_iter_i = _check_optimize_result(\n",
            "/usr/local/lib/python3.10/dist-packages/sklearn/linear_model/_logistic.py:458: ConvergenceWarning: lbfgs failed to converge (status=1):\n",
            "STOP: TOTAL NO. of ITERATIONS REACHED LIMIT.\n",
            "\n",
            "Increase the number of iterations (max_iter) or scale the data as shown in:\n",
            "    https://scikit-learn.org/stable/modules/preprocessing.html\n",
            "Please also refer to the documentation for alternative solver options:\n",
            "    https://scikit-learn.org/stable/modules/linear_model.html#logistic-regression\n",
            "  n_iter_i = _check_optimize_result(\n",
            "/usr/local/lib/python3.10/dist-packages/sklearn/linear_model/_logistic.py:458: ConvergenceWarning: lbfgs failed to converge (status=1):\n",
            "STOP: TOTAL NO. of ITERATIONS REACHED LIMIT.\n",
            "\n",
            "Increase the number of iterations (max_iter) or scale the data as shown in:\n",
            "    https://scikit-learn.org/stable/modules/preprocessing.html\n",
            "Please also refer to the documentation for alternative solver options:\n",
            "    https://scikit-learn.org/stable/modules/linear_model.html#logistic-regression\n",
            "  n_iter_i = _check_optimize_result(\n",
            "/usr/local/lib/python3.10/dist-packages/sklearn/linear_model/_logistic.py:458: ConvergenceWarning: lbfgs failed to converge (status=1):\n",
            "STOP: TOTAL NO. of ITERATIONS REACHED LIMIT.\n",
            "\n",
            "Increase the number of iterations (max_iter) or scale the data as shown in:\n",
            "    https://scikit-learn.org/stable/modules/preprocessing.html\n",
            "Please also refer to the documentation for alternative solver options:\n",
            "    https://scikit-learn.org/stable/modules/linear_model.html#logistic-regression\n",
            "  n_iter_i = _check_optimize_result(\n",
            "/usr/local/lib/python3.10/dist-packages/sklearn/linear_model/_logistic.py:458: ConvergenceWarning: lbfgs failed to converge (status=1):\n",
            "STOP: TOTAL NO. of ITERATIONS REACHED LIMIT.\n",
            "\n",
            "Increase the number of iterations (max_iter) or scale the data as shown in:\n",
            "    https://scikit-learn.org/stable/modules/preprocessing.html\n",
            "Please also refer to the documentation for alternative solver options:\n",
            "    https://scikit-learn.org/stable/modules/linear_model.html#logistic-regression\n",
            "  n_iter_i = _check_optimize_result(\n",
            "/usr/local/lib/python3.10/dist-packages/sklearn/linear_model/_logistic.py:458: ConvergenceWarning: lbfgs failed to converge (status=1):\n",
            "STOP: TOTAL NO. of ITERATIONS REACHED LIMIT.\n",
            "\n",
            "Increase the number of iterations (max_iter) or scale the data as shown in:\n",
            "    https://scikit-learn.org/stable/modules/preprocessing.html\n",
            "Please also refer to the documentation for alternative solver options:\n",
            "    https://scikit-learn.org/stable/modules/linear_model.html#logistic-regression\n",
            "  n_iter_i = _check_optimize_result(\n",
            "/usr/local/lib/python3.10/dist-packages/sklearn/linear_model/_logistic.py:458: ConvergenceWarning: lbfgs failed to converge (status=1):\n",
            "STOP: TOTAL NO. of ITERATIONS REACHED LIMIT.\n",
            "\n",
            "Increase the number of iterations (max_iter) or scale the data as shown in:\n",
            "    https://scikit-learn.org/stable/modules/preprocessing.html\n",
            "Please also refer to the documentation for alternative solver options:\n",
            "    https://scikit-learn.org/stable/modules/linear_model.html#logistic-regression\n",
            "  n_iter_i = _check_optimize_result(\n",
            "/usr/local/lib/python3.10/dist-packages/sklearn/linear_model/_logistic.py:458: ConvergenceWarning: lbfgs failed to converge (status=1):\n",
            "STOP: TOTAL NO. of ITERATIONS REACHED LIMIT.\n",
            "\n",
            "Increase the number of iterations (max_iter) or scale the data as shown in:\n",
            "    https://scikit-learn.org/stable/modules/preprocessing.html\n",
            "Please also refer to the documentation for alternative solver options:\n",
            "    https://scikit-learn.org/stable/modules/linear_model.html#logistic-regression\n",
            "  n_iter_i = _check_optimize_result(\n",
            "/usr/local/lib/python3.10/dist-packages/sklearn/linear_model/_logistic.py:458: ConvergenceWarning: lbfgs failed to converge (status=1):\n",
            "STOP: TOTAL NO. of ITERATIONS REACHED LIMIT.\n",
            "\n",
            "Increase the number of iterations (max_iter) or scale the data as shown in:\n",
            "    https://scikit-learn.org/stable/modules/preprocessing.html\n",
            "Please also refer to the documentation for alternative solver options:\n",
            "    https://scikit-learn.org/stable/modules/linear_model.html#logistic-regression\n",
            "  n_iter_i = _check_optimize_result(\n",
            "/usr/local/lib/python3.10/dist-packages/sklearn/linear_model/_logistic.py:458: ConvergenceWarning: lbfgs failed to converge (status=1):\n",
            "STOP: TOTAL NO. of ITERATIONS REACHED LIMIT.\n",
            "\n",
            "Increase the number of iterations (max_iter) or scale the data as shown in:\n",
            "    https://scikit-learn.org/stable/modules/preprocessing.html\n",
            "Please also refer to the documentation for alternative solver options:\n",
            "    https://scikit-learn.org/stable/modules/linear_model.html#logistic-regression\n",
            "  n_iter_i = _check_optimize_result(\n",
            "/usr/local/lib/python3.10/dist-packages/sklearn/linear_model/_logistic.py:458: ConvergenceWarning: lbfgs failed to converge (status=1):\n",
            "STOP: TOTAL NO. of ITERATIONS REACHED LIMIT.\n",
            "\n",
            "Increase the number of iterations (max_iter) or scale the data as shown in:\n",
            "    https://scikit-learn.org/stable/modules/preprocessing.html\n",
            "Please also refer to the documentation for alternative solver options:\n",
            "    https://scikit-learn.org/stable/modules/linear_model.html#logistic-regression\n",
            "  n_iter_i = _check_optimize_result(\n",
            "/usr/local/lib/python3.10/dist-packages/sklearn/linear_model/_logistic.py:458: ConvergenceWarning: lbfgs failed to converge (status=1):\n",
            "STOP: TOTAL NO. of ITERATIONS REACHED LIMIT.\n",
            "\n",
            "Increase the number of iterations (max_iter) or scale the data as shown in:\n",
            "    https://scikit-learn.org/stable/modules/preprocessing.html\n",
            "Please also refer to the documentation for alternative solver options:\n",
            "    https://scikit-learn.org/stable/modules/linear_model.html#logistic-regression\n",
            "  n_iter_i = _check_optimize_result(\n"
          ]
        },
        {
          "data": {
            "text/html": [
              "<style>#sk-container-id-1 {color: black;background-color: white;}#sk-container-id-1 pre{padding: 0;}#sk-container-id-1 div.sk-toggleable {background-color: white;}#sk-container-id-1 label.sk-toggleable__label {cursor: pointer;display: block;width: 100%;margin-bottom: 0;padding: 0.3em;box-sizing: border-box;text-align: center;}#sk-container-id-1 label.sk-toggleable__label-arrow:before {content: \"▸\";float: left;margin-right: 0.25em;color: #696969;}#sk-container-id-1 label.sk-toggleable__label-arrow:hover:before {color: black;}#sk-container-id-1 div.sk-estimator:hover label.sk-toggleable__label-arrow:before {color: black;}#sk-container-id-1 div.sk-toggleable__content {max-height: 0;max-width: 0;overflow: hidden;text-align: left;background-color: #f0f8ff;}#sk-container-id-1 div.sk-toggleable__content pre {margin: 0.2em;color: black;border-radius: 0.25em;background-color: #f0f8ff;}#sk-container-id-1 input.sk-toggleable__control:checked~div.sk-toggleable__content {max-height: 200px;max-width: 100%;overflow: auto;}#sk-container-id-1 input.sk-toggleable__control:checked~label.sk-toggleable__label-arrow:before {content: \"▾\";}#sk-container-id-1 div.sk-estimator input.sk-toggleable__control:checked~label.sk-toggleable__label {background-color: #d4ebff;}#sk-container-id-1 div.sk-label input.sk-toggleable__control:checked~label.sk-toggleable__label {background-color: #d4ebff;}#sk-container-id-1 input.sk-hidden--visually {border: 0;clip: rect(1px 1px 1px 1px);clip: rect(1px, 1px, 1px, 1px);height: 1px;margin: -1px;overflow: hidden;padding: 0;position: absolute;width: 1px;}#sk-container-id-1 div.sk-estimator {font-family: monospace;background-color: #f0f8ff;border: 1px dotted black;border-radius: 0.25em;box-sizing: border-box;margin-bottom: 0.5em;}#sk-container-id-1 div.sk-estimator:hover {background-color: #d4ebff;}#sk-container-id-1 div.sk-parallel-item::after {content: \"\";width: 100%;border-bottom: 1px solid gray;flex-grow: 1;}#sk-container-id-1 div.sk-label:hover label.sk-toggleable__label {background-color: #d4ebff;}#sk-container-id-1 div.sk-serial::before {content: \"\";position: absolute;border-left: 1px solid gray;box-sizing: border-box;top: 0;bottom: 0;left: 50%;z-index: 0;}#sk-container-id-1 div.sk-serial {display: flex;flex-direction: column;align-items: center;background-color: white;padding-right: 0.2em;padding-left: 0.2em;position: relative;}#sk-container-id-1 div.sk-item {position: relative;z-index: 1;}#sk-container-id-1 div.sk-parallel {display: flex;align-items: stretch;justify-content: center;background-color: white;position: relative;}#sk-container-id-1 div.sk-item::before, #sk-container-id-1 div.sk-parallel-item::before {content: \"\";position: absolute;border-left: 1px solid gray;box-sizing: border-box;top: 0;bottom: 0;left: 50%;z-index: -1;}#sk-container-id-1 div.sk-parallel-item {display: flex;flex-direction: column;z-index: 1;position: relative;background-color: white;}#sk-container-id-1 div.sk-parallel-item:first-child::after {align-self: flex-end;width: 50%;}#sk-container-id-1 div.sk-parallel-item:last-child::after {align-self: flex-start;width: 50%;}#sk-container-id-1 div.sk-parallel-item:only-child::after {width: 0;}#sk-container-id-1 div.sk-dashed-wrapped {border: 1px dashed gray;margin: 0 0.4em 0.5em 0.4em;box-sizing: border-box;padding-bottom: 0.4em;background-color: white;}#sk-container-id-1 div.sk-label label {font-family: monospace;font-weight: bold;display: inline-block;line-height: 1.2em;}#sk-container-id-1 div.sk-label-container {text-align: center;}#sk-container-id-1 div.sk-container {/* jupyter's `normalize.less` sets `[hidden] { display: none; }` but bootstrap.min.css set `[hidden] { display: none !important; }` so we also need the `!important` here to be able to override the default hidden behavior on the sphinx rendered scikit-learn.org. See: https://github.com/scikit-learn/scikit-learn/issues/21755 */display: inline-block !important;position: relative;}#sk-container-id-1 div.sk-text-repr-fallback {display: none;}</style><div id=\"sk-container-id-1\" class=\"sk-top-container\"><div class=\"sk-text-repr-fallback\"><pre>GridSearchCV(cv=5, estimator=LogisticRegression(),\n",
              "             param_grid={&#x27;C&#x27;: [0.1, 1, 10, 100]})</pre><b>In a Jupyter environment, please rerun this cell to show the HTML representation or trust the notebook. <br />On GitHub, the HTML representation is unable to render, please try loading this page with nbviewer.org.</b></div><div class=\"sk-container\" hidden><div class=\"sk-item sk-dashed-wrapped\"><div class=\"sk-label-container\"><div class=\"sk-label sk-toggleable\"><input class=\"sk-toggleable__control sk-hidden--visually\" id=\"sk-estimator-id-1\" type=\"checkbox\" ><label for=\"sk-estimator-id-1\" class=\"sk-toggleable__label sk-toggleable__label-arrow\">GridSearchCV</label><div class=\"sk-toggleable__content\"><pre>GridSearchCV(cv=5, estimator=LogisticRegression(),\n",
              "             param_grid={&#x27;C&#x27;: [0.1, 1, 10, 100]})</pre></div></div></div><div class=\"sk-parallel\"><div class=\"sk-parallel-item\"><div class=\"sk-item\"><div class=\"sk-label-container\"><div class=\"sk-label sk-toggleable\"><input class=\"sk-toggleable__control sk-hidden--visually\" id=\"sk-estimator-id-2\" type=\"checkbox\" ><label for=\"sk-estimator-id-2\" class=\"sk-toggleable__label sk-toggleable__label-arrow\">estimator: LogisticRegression</label><div class=\"sk-toggleable__content\"><pre>LogisticRegression()</pre></div></div></div><div class=\"sk-serial\"><div class=\"sk-item\"><div class=\"sk-estimator sk-toggleable\"><input class=\"sk-toggleable__control sk-hidden--visually\" id=\"sk-estimator-id-3\" type=\"checkbox\" ><label for=\"sk-estimator-id-3\" class=\"sk-toggleable__label sk-toggleable__label-arrow\">LogisticRegression</label><div class=\"sk-toggleable__content\"><pre>LogisticRegression()</pre></div></div></div></div></div></div></div></div></div></div>"
            ],
            "text/plain": [
              "GridSearchCV(cv=5, estimator=LogisticRegression(),\n",
              "             param_grid={'C': [0.1, 1, 10, 100]})"
            ]
          },
          "execution_count": 26,
          "metadata": {},
          "output_type": "execute_result"
        }
      ],
      "source": [
        "grid3.fit(train_features, train_labels)"
      ]
    },
    {
      "cell_type": "code",
      "execution_count": null,
      "metadata": {
        "colab": {
          "base_uri": "https://localhost:8080/"
        },
        "id": "hhaJ1y41Gskr",
        "outputId": "21f04dc7-b0a7-4e7b-bc40-8f987f2498ad"
      },
      "outputs": [
        {
          "data": {
            "text/plain": [
              "{'C': 1}"
            ]
          },
          "execution_count": 27,
          "metadata": {},
          "output_type": "execute_result"
        }
      ],
      "source": [
        "grid3.best_params_"
      ]
    },
    {
      "cell_type": "code",
      "execution_count": null,
      "metadata": {
        "id": "tlhpJDeCG1Hl"
      },
      "outputs": [],
      "source": [
        "model3= LogisticRegression(random_state=42, C=grid3.best_params_['C'])"
      ]
    },
    {
      "cell_type": "code",
      "execution_count": null,
      "metadata": {
        "colab": {
          "base_uri": "https://localhost:8080/"
        },
        "id": "wfVDVVHoG2DQ",
        "outputId": "8a308ffb-36bf-49d1-ff3e-8e82d541fd26"
      },
      "outputs": [
        {
          "name": "stderr",
          "output_type": "stream",
          "text": [
            "/usr/local/lib/python3.10/dist-packages/sklearn/linear_model/_logistic.py:458: ConvergenceWarning: lbfgs failed to converge (status=1):\n",
            "STOP: TOTAL NO. of ITERATIONS REACHED LIMIT.\n",
            "\n",
            "Increase the number of iterations (max_iter) or scale the data as shown in:\n",
            "    https://scikit-learn.org/stable/modules/preprocessing.html\n",
            "Please also refer to the documentation for alternative solver options:\n",
            "    https://scikit-learn.org/stable/modules/linear_model.html#logistic-regression\n",
            "  n_iter_i = _check_optimize_result(\n",
            "/usr/local/lib/python3.10/dist-packages/sklearn/linear_model/_logistic.py:458: ConvergenceWarning: lbfgs failed to converge (status=1):\n",
            "STOP: TOTAL NO. of ITERATIONS REACHED LIMIT.\n",
            "\n",
            "Increase the number of iterations (max_iter) or scale the data as shown in:\n",
            "    https://scikit-learn.org/stable/modules/preprocessing.html\n",
            "Please also refer to the documentation for alternative solver options:\n",
            "    https://scikit-learn.org/stable/modules/linear_model.html#logistic-regression\n",
            "  n_iter_i = _check_optimize_result(\n",
            "/usr/local/lib/python3.10/dist-packages/sklearn/linear_model/_logistic.py:458: ConvergenceWarning: lbfgs failed to converge (status=1):\n",
            "STOP: TOTAL NO. of ITERATIONS REACHED LIMIT.\n",
            "\n",
            "Increase the number of iterations (max_iter) or scale the data as shown in:\n",
            "    https://scikit-learn.org/stable/modules/preprocessing.html\n",
            "Please also refer to the documentation for alternative solver options:\n",
            "    https://scikit-learn.org/stable/modules/linear_model.html#logistic-regression\n",
            "  n_iter_i = _check_optimize_result(\n"
          ]
        },
        {
          "data": {
            "text/plain": [
              "array([0.79153439, 0.75794872, 0.7601023 ])"
            ]
          },
          "execution_count": 29,
          "metadata": {},
          "output_type": "execute_result"
        }
      ],
      "source": [
        "from sklearn.model_selection import cross_val_score\n",
        "scores=cross_val_score(model3,images_flattened,all_labels,cv=3,scoring='f1_macro')\n",
        "scores"
      ]
    },
    {
      "cell_type": "code",
      "execution_count": null,
      "metadata": {
        "colab": {
          "base_uri": "https://localhost:8080/"
        },
        "id": "8kVpdC_cl5vl",
        "outputId": "3317c637-14d3-42a7-8832-23b9d2fe4134"
      },
      "outputs": [
        {
          "name": "stdout",
          "output_type": "stream",
          "text": [
            "Precision: 0.8188198118753675\n",
            "Recall: 0.7862184984826495\n",
            "F1 Score: 0.7950010773540186\n"
          ]
        },
        {
          "name": "stderr",
          "output_type": "stream",
          "text": [
            "/usr/local/lib/python3.10/dist-packages/sklearn/linear_model/_logistic.py:458: ConvergenceWarning: lbfgs failed to converge (status=1):\n",
            "STOP: TOTAL NO. of ITERATIONS REACHED LIMIT.\n",
            "\n",
            "Increase the number of iterations (max_iter) or scale the data as shown in:\n",
            "    https://scikit-learn.org/stable/modules/preprocessing.html\n",
            "Please also refer to the documentation for alternative solver options:\n",
            "    https://scikit-learn.org/stable/modules/linear_model.html#logistic-regression\n",
            "  n_iter_i = _check_optimize_result(\n"
          ]
        }
      ],
      "source": [
        "from sklearn.metrics import precision_recall_fscore_support\n",
        "\n",
        "# Fit the model on the training data\n",
        "model3.fit(train_features, train_labels)\n",
        "\n",
        "# Predict the labels for the test data\n",
        "predictions = model3.predict(test_features)\n",
        "\n",
        "# Calculate precision, recall, and F1 score\n",
        "precision, recall, f1_score, _ = precision_recall_fscore_support(test_labels, predictions, average='macro')\n",
        "\n",
        "print(\"Precision:\", precision)\n",
        "print(\"Recall:\", recall)\n",
        "print(\"F1 Score:\", f1_score)\n"
      ]
    },
    {
      "cell_type": "code",
      "execution_count": null,
      "metadata": {
        "colab": {
          "base_uri": "https://localhost:8080/"
        },
        "id": "vgrg1__DG4yo",
        "outputId": "be7c70f4-d0a9-45f6-c2b0-f0cd8290a29f"
      },
      "outputs": [
        {
          "name": "stderr",
          "output_type": "stream",
          "text": [
            "/usr/local/lib/python3.10/dist-packages/sklearn/linear_model/_logistic.py:458: ConvergenceWarning: lbfgs failed to converge (status=1):\n",
            "STOP: TOTAL NO. of ITERATIONS REACHED LIMIT.\n",
            "\n",
            "Increase the number of iterations (max_iter) or scale the data as shown in:\n",
            "    https://scikit-learn.org/stable/modules/preprocessing.html\n",
            "Please also refer to the documentation for alternative solver options:\n",
            "    https://scikit-learn.org/stable/modules/linear_model.html#logistic-regression\n",
            "  n_iter_i = _check_optimize_result(\n",
            "/usr/local/lib/python3.10/dist-packages/sklearn/linear_model/_logistic.py:458: ConvergenceWarning: lbfgs failed to converge (status=1):\n",
            "STOP: TOTAL NO. of ITERATIONS REACHED LIMIT.\n",
            "\n",
            "Increase the number of iterations (max_iter) or scale the data as shown in:\n",
            "    https://scikit-learn.org/stable/modules/preprocessing.html\n",
            "Please also refer to the documentation for alternative solver options:\n",
            "    https://scikit-learn.org/stable/modules/linear_model.html#logistic-regression\n",
            "  n_iter_i = _check_optimize_result(\n",
            "/usr/local/lib/python3.10/dist-packages/sklearn/linear_model/_logistic.py:458: ConvergenceWarning: lbfgs failed to converge (status=1):\n",
            "STOP: TOTAL NO. of ITERATIONS REACHED LIMIT.\n",
            "\n",
            "Increase the number of iterations (max_iter) or scale the data as shown in:\n",
            "    https://scikit-learn.org/stable/modules/preprocessing.html\n",
            "Please also refer to the documentation for alternative solver options:\n",
            "    https://scikit-learn.org/stable/modules/linear_model.html#logistic-regression\n",
            "  n_iter_i = _check_optimize_result(\n",
            "/usr/local/lib/python3.10/dist-packages/sklearn/linear_model/_logistic.py:458: ConvergenceWarning: lbfgs failed to converge (status=1):\n",
            "STOP: TOTAL NO. of ITERATIONS REACHED LIMIT.\n",
            "\n",
            "Increase the number of iterations (max_iter) or scale the data as shown in:\n",
            "    https://scikit-learn.org/stable/modules/preprocessing.html\n",
            "Please also refer to the documentation for alternative solver options:\n",
            "    https://scikit-learn.org/stable/modules/linear_model.html#logistic-regression\n",
            "  n_iter_i = _check_optimize_result(\n",
            "/usr/local/lib/python3.10/dist-packages/sklearn/linear_model/_logistic.py:458: ConvergenceWarning: lbfgs failed to converge (status=1):\n",
            "STOP: TOTAL NO. of ITERATIONS REACHED LIMIT.\n",
            "\n",
            "Increase the number of iterations (max_iter) or scale the data as shown in:\n",
            "    https://scikit-learn.org/stable/modules/preprocessing.html\n",
            "Please also refer to the documentation for alternative solver options:\n",
            "    https://scikit-learn.org/stable/modules/linear_model.html#logistic-regression\n",
            "  n_iter_i = _check_optimize_result(\n"
          ]
        },
        {
          "data": {
            "text/plain": [
              "array([0.88294823, 0.71377291, 0.73150723, 0.80822248, 0.73863324])"
            ]
          },
          "execution_count": 28,
          "metadata": {},
          "output_type": "execute_result"
        }
      ],
      "source": [
        "scores=cross_val_score(model3,images_flattened,all_labels,cv=5,scoring='f1_macro')\n",
        "scores"
      ]
    },
    {
      "cell_type": "code",
      "execution_count": null,
      "metadata": {
        "colab": {
          "base_uri": "https://localhost:8080/"
        },
        "id": "XLzbcy2AmcmB",
        "outputId": "ae58b813-6689-4d32-b9d7-afbd31dd7fa7"
      },
      "outputs": [
        {
          "name": "stderr",
          "output_type": "stream",
          "text": [
            "/usr/local/lib/python3.10/dist-packages/sklearn/linear_model/_logistic.py:458: ConvergenceWarning: lbfgs failed to converge (status=1):\n",
            "STOP: TOTAL NO. of ITERATIONS REACHED LIMIT.\n",
            "\n",
            "Increase the number of iterations (max_iter) or scale the data as shown in:\n",
            "    https://scikit-learn.org/stable/modules/preprocessing.html\n",
            "Please also refer to the documentation for alternative solver options:\n",
            "    https://scikit-learn.org/stable/modules/linear_model.html#logistic-regression\n",
            "  n_iter_i = _check_optimize_result(\n"
          ]
        },
        {
          "name": "stdout",
          "output_type": "stream",
          "text": [
            "Precision (Test Set): 0.8188198118753675\n",
            "Recall (Test Set): 0.7862184984826495\n",
            "F1 Score (Test Set): 0.7950010773540186\n"
          ]
        },
        {
          "name": "stderr",
          "output_type": "stream",
          "text": [
            "/usr/local/lib/python3.10/dist-packages/sklearn/linear_model/_logistic.py:458: ConvergenceWarning: lbfgs failed to converge (status=1):\n",
            "STOP: TOTAL NO. of ITERATIONS REACHED LIMIT.\n",
            "\n",
            "Increase the number of iterations (max_iter) or scale the data as shown in:\n",
            "    https://scikit-learn.org/stable/modules/preprocessing.html\n",
            "Please also refer to the documentation for alternative solver options:\n",
            "    https://scikit-learn.org/stable/modules/linear_model.html#logistic-regression\n",
            "  n_iter_i = _check_optimize_result(\n",
            "/usr/local/lib/python3.10/dist-packages/sklearn/linear_model/_logistic.py:458: ConvergenceWarning: lbfgs failed to converge (status=1):\n",
            "STOP: TOTAL NO. of ITERATIONS REACHED LIMIT.\n",
            "\n",
            "Increase the number of iterations (max_iter) or scale the data as shown in:\n",
            "    https://scikit-learn.org/stable/modules/preprocessing.html\n",
            "Please also refer to the documentation for alternative solver options:\n",
            "    https://scikit-learn.org/stable/modules/linear_model.html#logistic-regression\n",
            "  n_iter_i = _check_optimize_result(\n",
            "/usr/local/lib/python3.10/dist-packages/sklearn/linear_model/_logistic.py:458: ConvergenceWarning: lbfgs failed to converge (status=1):\n",
            "STOP: TOTAL NO. of ITERATIONS REACHED LIMIT.\n",
            "\n",
            "Increase the number of iterations (max_iter) or scale the data as shown in:\n",
            "    https://scikit-learn.org/stable/modules/preprocessing.html\n",
            "Please also refer to the documentation for alternative solver options:\n",
            "    https://scikit-learn.org/stable/modules/linear_model.html#logistic-regression\n",
            "  n_iter_i = _check_optimize_result(\n",
            "/usr/local/lib/python3.10/dist-packages/sklearn/linear_model/_logistic.py:458: ConvergenceWarning: lbfgs failed to converge (status=1):\n",
            "STOP: TOTAL NO. of ITERATIONS REACHED LIMIT.\n",
            "\n",
            "Increase the number of iterations (max_iter) or scale the data as shown in:\n",
            "    https://scikit-learn.org/stable/modules/preprocessing.html\n",
            "Please also refer to the documentation for alternative solver options:\n",
            "    https://scikit-learn.org/stable/modules/linear_model.html#logistic-regression\n",
            "  n_iter_i = _check_optimize_result(\n",
            "/usr/local/lib/python3.10/dist-packages/sklearn/linear_model/_logistic.py:458: ConvergenceWarning: lbfgs failed to converge (status=1):\n",
            "STOP: TOTAL NO. of ITERATIONS REACHED LIMIT.\n",
            "\n",
            "Increase the number of iterations (max_iter) or scale the data as shown in:\n",
            "    https://scikit-learn.org/stable/modules/preprocessing.html\n",
            "Please also refer to the documentation for alternative solver options:\n",
            "    https://scikit-learn.org/stable/modules/linear_model.html#logistic-regression\n",
            "  n_iter_i = _check_optimize_result(\n"
          ]
        },
        {
          "name": "stdout",
          "output_type": "stream",
          "text": [
            "Precision (Cross-Validation): 0.7898040499972709\n",
            "Recall (Cross-Validation): 0.7710711934543403\n",
            "F1 Score (Cross-Validation): 0.7775853031993565\n"
          ]
        },
        {
          "name": "stderr",
          "output_type": "stream",
          "text": [
            "/usr/local/lib/python3.10/dist-packages/sklearn/linear_model/_logistic.py:458: ConvergenceWarning: lbfgs failed to converge (status=1):\n",
            "STOP: TOTAL NO. of ITERATIONS REACHED LIMIT.\n",
            "\n",
            "Increase the number of iterations (max_iter) or scale the data as shown in:\n",
            "    https://scikit-learn.org/stable/modules/preprocessing.html\n",
            "Please also refer to the documentation for alternative solver options:\n",
            "    https://scikit-learn.org/stable/modules/linear_model.html#logistic-regression\n",
            "  n_iter_i = _check_optimize_result(\n",
            "/usr/local/lib/python3.10/dist-packages/sklearn/linear_model/_logistic.py:458: ConvergenceWarning: lbfgs failed to converge (status=1):\n",
            "STOP: TOTAL NO. of ITERATIONS REACHED LIMIT.\n",
            "\n",
            "Increase the number of iterations (max_iter) or scale the data as shown in:\n",
            "    https://scikit-learn.org/stable/modules/preprocessing.html\n",
            "Please also refer to the documentation for alternative solver options:\n",
            "    https://scikit-learn.org/stable/modules/linear_model.html#logistic-regression\n",
            "  n_iter_i = _check_optimize_result(\n",
            "/usr/local/lib/python3.10/dist-packages/sklearn/linear_model/_logistic.py:458: ConvergenceWarning: lbfgs failed to converge (status=1):\n",
            "STOP: TOTAL NO. of ITERATIONS REACHED LIMIT.\n",
            "\n",
            "Increase the number of iterations (max_iter) or scale the data as shown in:\n",
            "    https://scikit-learn.org/stable/modules/preprocessing.html\n",
            "Please also refer to the documentation for alternative solver options:\n",
            "    https://scikit-learn.org/stable/modules/linear_model.html#logistic-regression\n",
            "  n_iter_i = _check_optimize_result(\n",
            "/usr/local/lib/python3.10/dist-packages/sklearn/linear_model/_logistic.py:458: ConvergenceWarning: lbfgs failed to converge (status=1):\n",
            "STOP: TOTAL NO. of ITERATIONS REACHED LIMIT.\n",
            "\n",
            "Increase the number of iterations (max_iter) or scale the data as shown in:\n",
            "    https://scikit-learn.org/stable/modules/preprocessing.html\n",
            "Please also refer to the documentation for alternative solver options:\n",
            "    https://scikit-learn.org/stable/modules/linear_model.html#logistic-regression\n",
            "  n_iter_i = _check_optimize_result(\n"
          ]
        },
        {
          "name": "stdout",
          "output_type": "stream",
          "text": [
            "Cross-Validation Scores: [0.87730656 0.71398305 0.73934081 0.80339215 0.74734072]\n"
          ]
        },
        {
          "name": "stderr",
          "output_type": "stream",
          "text": [
            "/usr/local/lib/python3.10/dist-packages/sklearn/linear_model/_logistic.py:458: ConvergenceWarning: lbfgs failed to converge (status=1):\n",
            "STOP: TOTAL NO. of ITERATIONS REACHED LIMIT.\n",
            "\n",
            "Increase the number of iterations (max_iter) or scale the data as shown in:\n",
            "    https://scikit-learn.org/stable/modules/preprocessing.html\n",
            "Please also refer to the documentation for alternative solver options:\n",
            "    https://scikit-learn.org/stable/modules/linear_model.html#logistic-regression\n",
            "  n_iter_i = _check_optimize_result(\n"
          ]
        }
      ],
      "source": [
        "from sklearn.metrics import precision_recall_fscore_support\n",
        "from sklearn.model_selection import cross_val_predict, cross_val_score\n",
        "\n",
        "# Fit the model on the training data\n",
        "model3.fit(train_features, train_labels)\n",
        "\n",
        "# Predict the labels for the test data\n",
        "predictions = model3.predict(test_features)\n",
        "\n",
        "# Calculate precision, recall, and F1 score on the test set\n",
        "precision, recall, f1_score, _ = precision_recall_fscore_support(test_labels, predictions, average='macro')\n",
        "\n",
        "print(\"Precision (Test Set):\", precision)\n",
        "print(\"Recall (Test Set):\", recall)\n",
        "print(\"F1 Score (Test Set):\", f1_score)\n",
        "\n",
        "# Perform cross-validation predictions\n",
        "predictions_cv = cross_val_predict(model3, images_flattened, all_labels, cv=5)\n",
        "\n",
        "# Calculate precision, recall, and F1 score for each fold\n",
        "precision_cv, recall_cv, f1_score_cv, _ = precision_recall_fscore_support(all_labels, predictions_cv, average='macro')\n",
        "\n",
        "print(\"Precision (Cross-Validation):\", precision_cv)\n",
        "print(\"Recall (Cross-Validation):\", recall_cv)\n",
        "print(\"F1 Score (Cross-Validation):\", f1_score_cv)\n",
        "\n",
        "# Calculate cross-validation scores using 'f1_macro'\n",
        "scores = cross_val_score(model3, images_flattened, all_labels, cv=5, scoring='f1_macro')\n",
        "print(\"Cross-Validation Scores:\", scores)\n"
      ]
    },
    {
      "cell_type": "code",
      "execution_count": null,
      "metadata": {
        "colab": {
          "base_uri": "https://localhost:8080/"
        },
        "id": "d99J2Qn6HByL",
        "outputId": "a858bca2-c0b5-4834-ea7a-dbff2cd057b3"
      },
      "outputs": [
        {
          "name": "stderr",
          "output_type": "stream",
          "text": [
            "/usr/local/lib/python3.10/dist-packages/sklearn/linear_model/_logistic.py:458: ConvergenceWarning: lbfgs failed to converge (status=1):\n",
            "STOP: TOTAL NO. of ITERATIONS REACHED LIMIT.\n",
            "\n",
            "Increase the number of iterations (max_iter) or scale the data as shown in:\n",
            "    https://scikit-learn.org/stable/modules/preprocessing.html\n",
            "Please also refer to the documentation for alternative solver options:\n",
            "    https://scikit-learn.org/stable/modules/linear_model.html#logistic-regression\n",
            "  n_iter_i = _check_optimize_result(\n",
            "/usr/local/lib/python3.10/dist-packages/sklearn/linear_model/_logistic.py:458: ConvergenceWarning: lbfgs failed to converge (status=1):\n",
            "STOP: TOTAL NO. of ITERATIONS REACHED LIMIT.\n",
            "\n",
            "Increase the number of iterations (max_iter) or scale the data as shown in:\n",
            "    https://scikit-learn.org/stable/modules/preprocessing.html\n",
            "Please also refer to the documentation for alternative solver options:\n",
            "    https://scikit-learn.org/stable/modules/linear_model.html#logistic-regression\n",
            "  n_iter_i = _check_optimize_result(\n",
            "/usr/local/lib/python3.10/dist-packages/sklearn/linear_model/_logistic.py:458: ConvergenceWarning: lbfgs failed to converge (status=1):\n",
            "STOP: TOTAL NO. of ITERATIONS REACHED LIMIT.\n",
            "\n",
            "Increase the number of iterations (max_iter) or scale the data as shown in:\n",
            "    https://scikit-learn.org/stable/modules/preprocessing.html\n",
            "Please also refer to the documentation for alternative solver options:\n",
            "    https://scikit-learn.org/stable/modules/linear_model.html#logistic-regression\n",
            "  n_iter_i = _check_optimize_result(\n",
            "/usr/local/lib/python3.10/dist-packages/sklearn/linear_model/_logistic.py:458: ConvergenceWarning: lbfgs failed to converge (status=1):\n",
            "STOP: TOTAL NO. of ITERATIONS REACHED LIMIT.\n",
            "\n",
            "Increase the number of iterations (max_iter) or scale the data as shown in:\n",
            "    https://scikit-learn.org/stable/modules/preprocessing.html\n",
            "Please also refer to the documentation for alternative solver options:\n",
            "    https://scikit-learn.org/stable/modules/linear_model.html#logistic-regression\n",
            "  n_iter_i = _check_optimize_result(\n",
            "/usr/local/lib/python3.10/dist-packages/sklearn/linear_model/_logistic.py:458: ConvergenceWarning: lbfgs failed to converge (status=1):\n",
            "STOP: TOTAL NO. of ITERATIONS REACHED LIMIT.\n",
            "\n",
            "Increase the number of iterations (max_iter) or scale the data as shown in:\n",
            "    https://scikit-learn.org/stable/modules/preprocessing.html\n",
            "Please also refer to the documentation for alternative solver options:\n",
            "    https://scikit-learn.org/stable/modules/linear_model.html#logistic-regression\n",
            "  n_iter_i = _check_optimize_result(\n",
            "/usr/local/lib/python3.10/dist-packages/sklearn/linear_model/_logistic.py:458: ConvergenceWarning: lbfgs failed to converge (status=1):\n",
            "STOP: TOTAL NO. of ITERATIONS REACHED LIMIT.\n",
            "\n",
            "Increase the number of iterations (max_iter) or scale the data as shown in:\n",
            "    https://scikit-learn.org/stable/modules/preprocessing.html\n",
            "Please also refer to the documentation for alternative solver options:\n",
            "    https://scikit-learn.org/stable/modules/linear_model.html#logistic-regression\n",
            "  n_iter_i = _check_optimize_result(\n",
            "/usr/local/lib/python3.10/dist-packages/sklearn/linear_model/_logistic.py:458: ConvergenceWarning: lbfgs failed to converge (status=1):\n",
            "STOP: TOTAL NO. of ITERATIONS REACHED LIMIT.\n",
            "\n",
            "Increase the number of iterations (max_iter) or scale the data as shown in:\n",
            "    https://scikit-learn.org/stable/modules/preprocessing.html\n",
            "Please also refer to the documentation for alternative solver options:\n",
            "    https://scikit-learn.org/stable/modules/linear_model.html#logistic-regression\n",
            "  n_iter_i = _check_optimize_result(\n"
          ]
        },
        {
          "data": {
            "text/plain": [
              "array([0.93257828, 0.74734848, 0.69631165, 0.74746654, 0.82532626,\n",
              "       0.77802976, 0.76402398])"
            ]
          },
          "execution_count": 36,
          "metadata": {},
          "output_type": "execute_result"
        }
      ],
      "source": [
        "scores=cross_val_score(model3,images_flattened,all_labels,cv=7,scoring='f1_macro')\n",
        "scores"
      ]
    },
    {
      "cell_type": "code",
      "execution_count": null,
      "metadata": {
        "colab": {
          "base_uri": "https://localhost:8080/"
        },
        "id": "cvAO_tqLoyVB",
        "outputId": "5dc1e79a-25b0-4487-e69b-e66bc833fb6b"
      },
      "outputs": [
        {
          "name": "stdout",
          "output_type": "stream",
          "text": [
            "Precision (Test Set): 0.8164599025254763\n",
            "Recall (Test Set): 0.7827219949861459\n",
            "F1 Score (Test Set): 0.7915803287746926\n",
            "Precision (Cross-Validation): 0.788950144852337\n",
            "Recall (Cross-Validation): 0.769345434026145\n",
            "F1 Score (Cross-Validation): 0.7760511993836008\n",
            "Cross-Validation Scores: [0.93257828 0.75235691 0.70910518 0.74257224 0.82532626 0.77140933\n",
            " 0.78087941]\n"
          ]
        }
      ],
      "source": [
        "from sklearn.metrics import precision_recall_fscore_support\n",
        "from sklearn.model_selection import cross_val_predict, cross_val_score\n",
        "\n",
        "# Fit the model on the training data\n",
        "model3.fit(train_features, train_labels)\n",
        "\n",
        "# Predict the labels for the test data\n",
        "predictions = model3.predict(test_features)\n",
        "\n",
        "# Calculate precision, recall, and F1 score on the test set\n",
        "precision, recall, f1_score, _ = precision_recall_fscore_support(test_labels, predictions, average='macro')\n",
        "\n",
        "print(\"Precision (Test Set):\", precision)\n",
        "print(\"Recall (Test Set):\", recall)\n",
        "print(\"F1 Score (Test Set):\", f1_score)\n",
        "\n",
        "# Perform cross-validation predictions\n",
        "predictions_cv = cross_val_predict(model3, images_flattened, all_labels, cv=5)\n",
        "\n",
        "# Calculate precision, recall, and F1 score for each fold\n",
        "precision_cv, recall_cv, f1_score_cv, _ = precision_recall_fscore_support(all_labels, predictions_cv, average='macro')\n",
        "\n",
        "print(\"Precision (Cross-Validation):\", precision_cv)\n",
        "print(\"Recall (Cross-Validation):\", recall_cv)\n",
        "print(\"F1 Score (Cross-Validation):\", f1_score_cv)\n",
        "\n",
        "# Calculate cross-validation scores using 'f1_macro'\n",
        "scores = cross_val_score(model3, images_flattened, all_labels, cv=7, scoring='f1_macro')\n",
        "print(\"Cross-Validation Scores:\", scores)\n"
      ]
    },
    {
      "cell_type": "code",
      "execution_count": null,
      "metadata": {
        "colab": {
          "base_uri": "https://localhost:8080/"
        },
        "id": "-5mVCXDiHIK5",
        "outputId": "a701f1c9-a39d-4774-e142-3e17a1eaebf9"
      },
      "outputs": [
        {
          "data": {
            "text/plain": [
              "array([0.93398294, 0.84650872, 0.72783837, 0.7677083 , 0.69491525,\n",
              "       0.76902473, 0.84295659, 0.80786974, 0.73077987, 0.76901456])"
            ]
          },
          "execution_count": 40,
          "metadata": {},
          "output_type": "execute_result"
        }
      ],
      "source": [
        "scores=cross_val_score(model3,images_flattened,all_labels,cv=10,scoring='f1_macro')\n",
        "scores"
      ]
    },
    {
      "cell_type": "code",
      "execution_count": null,
      "metadata": {
        "colab": {
          "base_uri": "https://localhost:8080/"
        },
        "id": "iLv9qdp5pWfN",
        "outputId": "4a6523ec-b833-4cac-9092-8d8760d6ac1b"
      },
      "outputs": [
        {
          "name": "stdout",
          "output_type": "stream",
          "text": [
            "Precision (Test Set): 0.8164599025254763\n",
            "Recall (Test Set): 0.7827219949861459\n",
            "F1 Score (Test Set): 0.7915803287746926\n",
            "Precision (Cross-Validation): 0.788950144852337\n",
            "Recall (Cross-Validation): 0.769345434026145\n",
            "F1 Score (Cross-Validation): 0.7760511993836008\n",
            "Cross-Validation Scores: [0.93398294 0.84650872 0.72783837 0.7677083  0.69491525 0.76902473\n",
            " 0.84295659 0.80786974 0.73077987 0.76901456]\n"
          ]
        }
      ],
      "source": [
        "from sklearn.metrics import precision_recall_fscore_support\n",
        "from sklearn.model_selection import cross_val_predict, cross_val_score\n",
        "\n",
        "# Fit the model on the training data\n",
        "model3.fit(train_features, train_labels)\n",
        "\n",
        "# Predict the labels for the test data\n",
        "predictions = model3.predict(test_features)\n",
        "\n",
        "# Calculate precision, recall, and F1 score on the test set\n",
        "precision, recall, f1_score, _ = precision_recall_fscore_support(test_labels, predictions, average='macro')\n",
        "\n",
        "print(\"Precision (Test Set):\", precision)\n",
        "print(\"Recall (Test Set):\", recall)\n",
        "print(\"F1 Score (Test Set):\", f1_score)\n",
        "\n",
        "# Perform cross-validation predictions\n",
        "predictions_cv = cross_val_predict(model3, images_flattened, all_labels, cv=5)\n",
        "\n",
        "# Calculate precision, recall, and F1 score for each fold\n",
        "precision_cv, recall_cv, f1_score_cv, _ = precision_recall_fscore_support(all_labels, predictions_cv, average='macro')\n",
        "\n",
        "print(\"Precision (Cross-Validation):\", precision_cv)\n",
        "print(\"Recall (Cross-Validation):\", recall_cv)\n",
        "print(\"F1 Score (Cross-Validation):\", f1_score_cv)\n",
        "\n",
        "# Calculate cross-validation scores using 'f1_macro'\n",
        "scores = cross_val_score(model3, images_flattened, all_labels, cv=10, scoring='f1_macro')\n",
        "print(\"Cross-Validation Scores:\", scores)\n"
      ]
    },
    {
      "cell_type": "code",
      "execution_count": null,
      "metadata": {
        "id": "c1ROsMxFHRqI"
      },
      "outputs": [],
      "source": [
        "best_logreg = grid3.best_estimator_\n",
        "predictions = best_logreg.predict(test_features)"
      ]
    },
    {
      "cell_type": "code",
      "execution_count": null,
      "metadata": {
        "id": "oV1yNBfkHdeV"
      },
      "outputs": [],
      "source": [
        "from sklearn.svm import SVC"
      ]
    },
    {
      "cell_type": "code",
      "execution_count": null,
      "metadata": {
        "id": "i3ZSylwgHegT"
      },
      "outputs": [],
      "source": [
        "param_grid = {\n",
        "    'C': [0.1, 1, 10],\n",
        "    'kernel': ['linear', 'rbf', 'poly'],\n",
        "    'gamma': ['scale', 'auto']\n",
        "}"
      ]
    },
    {
      "cell_type": "code",
      "execution_count": null,
      "metadata": {
        "id": "y6aFX87kHhco"
      },
      "outputs": [],
      "source": [
        "svm_classifier = SVC()"
      ]
    },
    {
      "cell_type": "code",
      "execution_count": null,
      "metadata": {
        "id": "zMDIuwelHkUv"
      },
      "outputs": [],
      "source": [
        "grid4 = GridSearchCV(estimator=svm_classifier, param_grid=param_grid, cv=5)"
      ]
    },
    {
      "cell_type": "code",
      "execution_count": null,
      "metadata": {
        "colab": {
          "base_uri": "https://localhost:8080/",
          "height": 118
        },
        "id": "MJLBSadaHnif",
        "outputId": "d747e498-b37e-49ad-b2d8-f028fdc6c41f"
      },
      "outputs": [
        {
          "data": {
            "text/html": [
              "<style>#sk-container-id-2 {color: black;background-color: white;}#sk-container-id-2 pre{padding: 0;}#sk-container-id-2 div.sk-toggleable {background-color: white;}#sk-container-id-2 label.sk-toggleable__label {cursor: pointer;display: block;width: 100%;margin-bottom: 0;padding: 0.3em;box-sizing: border-box;text-align: center;}#sk-container-id-2 label.sk-toggleable__label-arrow:before {content: \"▸\";float: left;margin-right: 0.25em;color: #696969;}#sk-container-id-2 label.sk-toggleable__label-arrow:hover:before {color: black;}#sk-container-id-2 div.sk-estimator:hover label.sk-toggleable__label-arrow:before {color: black;}#sk-container-id-2 div.sk-toggleable__content {max-height: 0;max-width: 0;overflow: hidden;text-align: left;background-color: #f0f8ff;}#sk-container-id-2 div.sk-toggleable__content pre {margin: 0.2em;color: black;border-radius: 0.25em;background-color: #f0f8ff;}#sk-container-id-2 input.sk-toggleable__control:checked~div.sk-toggleable__content {max-height: 200px;max-width: 100%;overflow: auto;}#sk-container-id-2 input.sk-toggleable__control:checked~label.sk-toggleable__label-arrow:before {content: \"▾\";}#sk-container-id-2 div.sk-estimator input.sk-toggleable__control:checked~label.sk-toggleable__label {background-color: #d4ebff;}#sk-container-id-2 div.sk-label input.sk-toggleable__control:checked~label.sk-toggleable__label {background-color: #d4ebff;}#sk-container-id-2 input.sk-hidden--visually {border: 0;clip: rect(1px 1px 1px 1px);clip: rect(1px, 1px, 1px, 1px);height: 1px;margin: -1px;overflow: hidden;padding: 0;position: absolute;width: 1px;}#sk-container-id-2 div.sk-estimator {font-family: monospace;background-color: #f0f8ff;border: 1px dotted black;border-radius: 0.25em;box-sizing: border-box;margin-bottom: 0.5em;}#sk-container-id-2 div.sk-estimator:hover {background-color: #d4ebff;}#sk-container-id-2 div.sk-parallel-item::after {content: \"\";width: 100%;border-bottom: 1px solid gray;flex-grow: 1;}#sk-container-id-2 div.sk-label:hover label.sk-toggleable__label {background-color: #d4ebff;}#sk-container-id-2 div.sk-serial::before {content: \"\";position: absolute;border-left: 1px solid gray;box-sizing: border-box;top: 0;bottom: 0;left: 50%;z-index: 0;}#sk-container-id-2 div.sk-serial {display: flex;flex-direction: column;align-items: center;background-color: white;padding-right: 0.2em;padding-left: 0.2em;position: relative;}#sk-container-id-2 div.sk-item {position: relative;z-index: 1;}#sk-container-id-2 div.sk-parallel {display: flex;align-items: stretch;justify-content: center;background-color: white;position: relative;}#sk-container-id-2 div.sk-item::before, #sk-container-id-2 div.sk-parallel-item::before {content: \"\";position: absolute;border-left: 1px solid gray;box-sizing: border-box;top: 0;bottom: 0;left: 50%;z-index: -1;}#sk-container-id-2 div.sk-parallel-item {display: flex;flex-direction: column;z-index: 1;position: relative;background-color: white;}#sk-container-id-2 div.sk-parallel-item:first-child::after {align-self: flex-end;width: 50%;}#sk-container-id-2 div.sk-parallel-item:last-child::after {align-self: flex-start;width: 50%;}#sk-container-id-2 div.sk-parallel-item:only-child::after {width: 0;}#sk-container-id-2 div.sk-dashed-wrapped {border: 1px dashed gray;margin: 0 0.4em 0.5em 0.4em;box-sizing: border-box;padding-bottom: 0.4em;background-color: white;}#sk-container-id-2 div.sk-label label {font-family: monospace;font-weight: bold;display: inline-block;line-height: 1.2em;}#sk-container-id-2 div.sk-label-container {text-align: center;}#sk-container-id-2 div.sk-container {/* jupyter's `normalize.less` sets `[hidden] { display: none; }` but bootstrap.min.css set `[hidden] { display: none !important; }` so we also need the `!important` here to be able to override the default hidden behavior on the sphinx rendered scikit-learn.org. See: https://github.com/scikit-learn/scikit-learn/issues/21755 */display: inline-block !important;position: relative;}#sk-container-id-2 div.sk-text-repr-fallback {display: none;}</style><div id=\"sk-container-id-2\" class=\"sk-top-container\"><div class=\"sk-text-repr-fallback\"><pre>GridSearchCV(cv=5, estimator=SVC(),\n",
              "             param_grid={&#x27;C&#x27;: [0.1, 1, 10], &#x27;gamma&#x27;: [&#x27;scale&#x27;, &#x27;auto&#x27;],\n",
              "                         &#x27;kernel&#x27;: [&#x27;linear&#x27;, &#x27;rbf&#x27;, &#x27;poly&#x27;]})</pre><b>In a Jupyter environment, please rerun this cell to show the HTML representation or trust the notebook. <br />On GitHub, the HTML representation is unable to render, please try loading this page with nbviewer.org.</b></div><div class=\"sk-container\" hidden><div class=\"sk-item sk-dashed-wrapped\"><div class=\"sk-label-container\"><div class=\"sk-label sk-toggleable\"><input class=\"sk-toggleable__control sk-hidden--visually\" id=\"sk-estimator-id-4\" type=\"checkbox\" ><label for=\"sk-estimator-id-4\" class=\"sk-toggleable__label sk-toggleable__label-arrow\">GridSearchCV</label><div class=\"sk-toggleable__content\"><pre>GridSearchCV(cv=5, estimator=SVC(),\n",
              "             param_grid={&#x27;C&#x27;: [0.1, 1, 10], &#x27;gamma&#x27;: [&#x27;scale&#x27;, &#x27;auto&#x27;],\n",
              "                         &#x27;kernel&#x27;: [&#x27;linear&#x27;, &#x27;rbf&#x27;, &#x27;poly&#x27;]})</pre></div></div></div><div class=\"sk-parallel\"><div class=\"sk-parallel-item\"><div class=\"sk-item\"><div class=\"sk-label-container\"><div class=\"sk-label sk-toggleable\"><input class=\"sk-toggleable__control sk-hidden--visually\" id=\"sk-estimator-id-5\" type=\"checkbox\" ><label for=\"sk-estimator-id-5\" class=\"sk-toggleable__label sk-toggleable__label-arrow\">estimator: SVC</label><div class=\"sk-toggleable__content\"><pre>SVC()</pre></div></div></div><div class=\"sk-serial\"><div class=\"sk-item\"><div class=\"sk-estimator sk-toggleable\"><input class=\"sk-toggleable__control sk-hidden--visually\" id=\"sk-estimator-id-6\" type=\"checkbox\" ><label for=\"sk-estimator-id-6\" class=\"sk-toggleable__label sk-toggleable__label-arrow\">SVC</label><div class=\"sk-toggleable__content\"><pre>SVC()</pre></div></div></div></div></div></div></div></div></div></div>"
            ],
            "text/plain": [
              "GridSearchCV(cv=5, estimator=SVC(),\n",
              "             param_grid={'C': [0.1, 1, 10], 'gamma': ['scale', 'auto'],\n",
              "                         'kernel': ['linear', 'rbf', 'poly']})"
            ]
          },
          "execution_count": 48,
          "metadata": {},
          "output_type": "execute_result"
        }
      ],
      "source": [
        "grid4.fit(train_features, train_labels)"
      ]
    },
    {
      "cell_type": "code",
      "execution_count": null,
      "metadata": {
        "colab": {
          "base_uri": "https://localhost:8080/"
        },
        "id": "klau3uvOHrnV",
        "outputId": "019f4c5e-4a48-4830-bc6b-cc40c6555e5d"
      },
      "outputs": [
        {
          "name": "stdout",
          "output_type": "stream",
          "text": [
            "Best Hyperparameters:  {'C': 10, 'gamma': 'scale', 'kernel': 'rbf'}\n"
          ]
        }
      ],
      "source": [
        "print(\"Best Hyperparameters: \", grid4.best_params_)"
      ]
    },
    {
      "cell_type": "code",
      "execution_count": null,
      "metadata": {
        "id": "on5bRjkKHugF"
      },
      "outputs": [],
      "source": [
        "model4= SVC(random_state=42, C=grid4.best_params_['C'])"
      ]
    },
    {
      "cell_type": "code",
      "execution_count": null,
      "metadata": {
        "colab": {
          "base_uri": "https://localhost:8080/"
        },
        "id": "aS64q7oJHxcR",
        "outputId": "537937e7-7dea-49e3-fd68-95ba21d75e95"
      },
      "outputs": [
        {
          "data": {
            "text/plain": [
              "array([0.79577079, 0.84238036, 0.81870327])"
            ]
          },
          "execution_count": 51,
          "metadata": {},
          "output_type": "execute_result"
        }
      ],
      "source": [
        "from sklearn.model_selection import cross_val_score\n",
        "scores=cross_val_score(model4,images_flattened,all_labels,cv=3,scoring='f1_macro')\n",
        "scores"
      ]
    },
    {
      "cell_type": "code",
      "execution_count": null,
      "metadata": {
        "colab": {
          "base_uri": "https://localhost:8080/"
        },
        "id": "SRPk4RuZsrDF",
        "outputId": "bb364535-175f-4435-bfdf-a0905cd5cf85"
      },
      "outputs": [
        {
          "name": "stdout",
          "output_type": "stream",
          "text": [
            "Precision (Macro): 0.8515343899828454\n",
            "Recall (Macro): 0.8221198156682028\n",
            "F1 Score (Macro): 0.8319851556287232\n"
          ]
        }
      ],
      "source": [
        "from sklearn.model_selection import cross_val_predict\n",
        "from sklearn.metrics import precision_recall_fscore_support\n",
        "\n",
        "# Perform cross-validation predictions\n",
        "predictions_cv = cross_val_predict(model4, images_flattened, all_labels, cv=3)\n",
        "\n",
        "# Calculate precision, recall, and F1 score for each class\n",
        "precision, recall, f1_score, _ = precision_recall_fscore_support(all_labels, predictions_cv, average='macro')\n",
        "\n",
        "print(\"Precision (Macro):\", precision)\n",
        "print(\"Recall (Macro):\", recall)\n",
        "print(\"F1 Score (Macro):\", f1_score)\n"
      ]
    },
    {
      "cell_type": "code",
      "execution_count": null,
      "metadata": {
        "colab": {
          "base_uri": "https://localhost:8080/"
        },
        "id": "n9xLKoQ2H0q9",
        "outputId": "baae2f15-fb1a-4ba6-c5a7-f1dd73ad1989"
      },
      "outputs": [
        {
          "data": {
            "text/plain": [
              "array([0.86088994, 0.72929693, 0.74196211, 0.82208782, 0.75175316])"
            ]
          },
          "execution_count": 57,
          "metadata": {},
          "output_type": "execute_result"
        }
      ],
      "source": [
        "scores=cross_val_score(model3,images_flattened,all_labels,cv=5,scoring='f1_macro')\n",
        "scores"
      ]
    },
    {
      "cell_type": "code",
      "execution_count": null,
      "metadata": {
        "colab": {
          "base_uri": "https://localhost:8080/"
        },
        "id": "g_G4Dpc0svvC",
        "outputId": "1b315ec9-226e-4a0c-91d9-ef42b3d8a86a"
      },
      "outputs": [
        {
          "name": "stdout",
          "output_type": "stream",
          "text": [
            "Precision (Macro): 0.8712061798511344\n",
            "Recall (Macro): 0.8472115113326437\n",
            "F1 Score (Macro): 0.8560125241097762\n"
          ]
        }
      ],
      "source": [
        "from sklearn.model_selection import cross_val_predict\n",
        "from sklearn.metrics import precision_recall_fscore_support\n",
        "\n",
        "# Perform cross-validation predictions\n",
        "predictions_cv = cross_val_predict(model4, images_flattened, all_labels, cv=5)\n",
        "\n",
        "# Calculate precision, recall, and F1 score for each class\n",
        "precision, recall, f1_score, _ = precision_recall_fscore_support(all_labels, predictions_cv, average='macro')\n",
        "\n",
        "print(\"Precision (Macro):\", precision)\n",
        "print(\"Recall (Macro):\", recall)\n",
        "print(\"F1 Score (Macro):\", f1_score)"
      ]
    },
    {
      "cell_type": "code",
      "execution_count": null,
      "metadata": {
        "colab": {
          "base_uri": "https://localhost:8080/"
        },
        "id": "9pa0ZhpaH4wa",
        "outputId": "f7c387b1-7560-48ee-bca8-68744b8abea4"
      },
      "outputs": [
        {
          "data": {
            "text/plain": [
              "array([0.93717824, 0.75362616, 0.68730337, 0.76458746, 0.83729904,\n",
              "       0.78369906, 0.79124358])"
            ]
          },
          "execution_count": 59,
          "metadata": {},
          "output_type": "execute_result"
        }
      ],
      "source": [
        "scores=cross_val_score(model3,images_flattened,all_labels,cv=7,scoring='f1_macro')\n",
        "scores"
      ]
    },
    {
      "cell_type": "code",
      "execution_count": null,
      "metadata": {
        "colab": {
          "base_uri": "https://localhost:8080/"
        },
        "id": "lwuBDU0Ws3Ut",
        "outputId": "bb067c7c-c94c-4126-8190-2736385a978f"
      },
      "outputs": [
        {
          "name": "stdout",
          "output_type": "stream",
          "text": [
            "Precision (Macro): 0.8701930772308923\n",
            "Recall (Macro): 0.8480156117746638\n",
            "F1 Score (Macro): 0.8563066296406396\n"
          ]
        }
      ],
      "source": [
        "from sklearn.model_selection import cross_val_predict\n",
        "from sklearn.metrics import precision_recall_fscore_support\n",
        "\n",
        "# Perform cross-validation predictions\n",
        "predictions_cv = cross_val_predict(model4, images_flattened, all_labels, cv=7)\n",
        "\n",
        "# Calculate precision, recall, and F1 score for each class\n",
        "precision, recall, f1_score, _ = precision_recall_fscore_support(all_labels, predictions_cv, average='macro')\n",
        "\n",
        "print(\"Precision (Macro):\", precision)\n",
        "print(\"Recall (Macro):\", recall)\n",
        "print(\"F1 Score (Macro):\", f1_score)"
      ]
    },
    {
      "cell_type": "code",
      "execution_count": null,
      "metadata": {
        "colab": {
          "base_uri": "https://localhost:8080/"
        },
        "id": "nQu38X8NH_DC",
        "outputId": "a3d02eb6-bcaf-4db8-bc7f-7cff89f1b8a6"
      },
      "outputs": [
        {
          "data": {
            "text/plain": [
              "array([0.95240642, 0.82429056, 0.73599501, 0.7820197 , 0.71004274,\n",
              "       0.74827431, 0.85821095, 0.84295659, 0.74259568, 0.79046169])"
            ]
          },
          "execution_count": 61,
          "metadata": {},
          "output_type": "execute_result"
        }
      ],
      "source": [
        "scores=cross_val_score(model3,images_flattened,all_labels,cv=10,scoring='f1_macro')\n",
        "scores"
      ]
    },
    {
      "cell_type": "code",
      "execution_count": null,
      "metadata": {
        "colab": {
          "base_uri": "https://localhost:8080/"
        },
        "id": "wXniduY6s-KQ",
        "outputId": "67afbc4d-43b1-4a36-a7de-85f871f8d1b2"
      },
      "outputs": [
        {
          "name": "stdout",
          "output_type": "stream",
          "text": [
            "Precision (Macro): 0.8698658973959146\n",
            "Recall (Macro): 0.8505454716448791\n",
            "F1 Score (Macro): 0.8580051004098015\n"
          ]
        }
      ],
      "source": [
        "from sklearn.model_selection import cross_val_predict\n",
        "from sklearn.metrics import precision_recall_fscore_support\n",
        "\n",
        "# Perform cross-validation predictions\n",
        "predictions_cv = cross_val_predict(model4, images_flattened, all_labels, cv=10)\n",
        "\n",
        "# Calculate precision, recall, and F1 score for each class\n",
        "precision, recall, f1_score, _ = precision_recall_fscore_support(all_labels, predictions_cv, average='macro')\n",
        "\n",
        "print(\"Precision (Macro):\", precision)\n",
        "print(\"Recall (Macro):\", recall)\n",
        "print(\"F1 Score (Macro):\", f1_score)"
      ]
    },
    {
      "cell_type": "code",
      "execution_count": null,
      "metadata": {
        "id": "3ghdgx4dIcLG"
      },
      "outputs": [],
      "source": [
        "from sklearn.neighbors import KNeighborsClassifier\n",
        "from sklearn.model_selection import cross_val_score"
      ]
    },
    {
      "cell_type": "code",
      "execution_count": null,
      "metadata": {
        "id": "m0ga6_TjIdRg"
      },
      "outputs": [],
      "source": [
        "knn_classifier = KNeighborsClassifier()"
      ]
    },
    {
      "cell_type": "code",
      "execution_count": null,
      "metadata": {
        "colab": {
          "base_uri": "https://localhost:8080/",
          "height": 75
        },
        "id": "kPNg9-MfIft7",
        "outputId": "5781c3e4-3c74-4f49-9bf3-4249b84b7408"
      },
      "outputs": [
        {
          "data": {
            "text/html": [
              "<style>#sk-container-id-3 {color: black;background-color: white;}#sk-container-id-3 pre{padding: 0;}#sk-container-id-3 div.sk-toggleable {background-color: white;}#sk-container-id-3 label.sk-toggleable__label {cursor: pointer;display: block;width: 100%;margin-bottom: 0;padding: 0.3em;box-sizing: border-box;text-align: center;}#sk-container-id-3 label.sk-toggleable__label-arrow:before {content: \"▸\";float: left;margin-right: 0.25em;color: #696969;}#sk-container-id-3 label.sk-toggleable__label-arrow:hover:before {color: black;}#sk-container-id-3 div.sk-estimator:hover label.sk-toggleable__label-arrow:before {color: black;}#sk-container-id-3 div.sk-toggleable__content {max-height: 0;max-width: 0;overflow: hidden;text-align: left;background-color: #f0f8ff;}#sk-container-id-3 div.sk-toggleable__content pre {margin: 0.2em;color: black;border-radius: 0.25em;background-color: #f0f8ff;}#sk-container-id-3 input.sk-toggleable__control:checked~div.sk-toggleable__content {max-height: 200px;max-width: 100%;overflow: auto;}#sk-container-id-3 input.sk-toggleable__control:checked~label.sk-toggleable__label-arrow:before {content: \"▾\";}#sk-container-id-3 div.sk-estimator input.sk-toggleable__control:checked~label.sk-toggleable__label {background-color: #d4ebff;}#sk-container-id-3 div.sk-label input.sk-toggleable__control:checked~label.sk-toggleable__label {background-color: #d4ebff;}#sk-container-id-3 input.sk-hidden--visually {border: 0;clip: rect(1px 1px 1px 1px);clip: rect(1px, 1px, 1px, 1px);height: 1px;margin: -1px;overflow: hidden;padding: 0;position: absolute;width: 1px;}#sk-container-id-3 div.sk-estimator {font-family: monospace;background-color: #f0f8ff;border: 1px dotted black;border-radius: 0.25em;box-sizing: border-box;margin-bottom: 0.5em;}#sk-container-id-3 div.sk-estimator:hover {background-color: #d4ebff;}#sk-container-id-3 div.sk-parallel-item::after {content: \"\";width: 100%;border-bottom: 1px solid gray;flex-grow: 1;}#sk-container-id-3 div.sk-label:hover label.sk-toggleable__label {background-color: #d4ebff;}#sk-container-id-3 div.sk-serial::before {content: \"\";position: absolute;border-left: 1px solid gray;box-sizing: border-box;top: 0;bottom: 0;left: 50%;z-index: 0;}#sk-container-id-3 div.sk-serial {display: flex;flex-direction: column;align-items: center;background-color: white;padding-right: 0.2em;padding-left: 0.2em;position: relative;}#sk-container-id-3 div.sk-item {position: relative;z-index: 1;}#sk-container-id-3 div.sk-parallel {display: flex;align-items: stretch;justify-content: center;background-color: white;position: relative;}#sk-container-id-3 div.sk-item::before, #sk-container-id-3 div.sk-parallel-item::before {content: \"\";position: absolute;border-left: 1px solid gray;box-sizing: border-box;top: 0;bottom: 0;left: 50%;z-index: -1;}#sk-container-id-3 div.sk-parallel-item {display: flex;flex-direction: column;z-index: 1;position: relative;background-color: white;}#sk-container-id-3 div.sk-parallel-item:first-child::after {align-self: flex-end;width: 50%;}#sk-container-id-3 div.sk-parallel-item:last-child::after {align-self: flex-start;width: 50%;}#sk-container-id-3 div.sk-parallel-item:only-child::after {width: 0;}#sk-container-id-3 div.sk-dashed-wrapped {border: 1px dashed gray;margin: 0 0.4em 0.5em 0.4em;box-sizing: border-box;padding-bottom: 0.4em;background-color: white;}#sk-container-id-3 div.sk-label label {font-family: monospace;font-weight: bold;display: inline-block;line-height: 1.2em;}#sk-container-id-3 div.sk-label-container {text-align: center;}#sk-container-id-3 div.sk-container {/* jupyter's `normalize.less` sets `[hidden] { display: none; }` but bootstrap.min.css set `[hidden] { display: none !important; }` so we also need the `!important` here to be able to override the default hidden behavior on the sphinx rendered scikit-learn.org. See: https://github.com/scikit-learn/scikit-learn/issues/21755 */display: inline-block !important;position: relative;}#sk-container-id-3 div.sk-text-repr-fallback {display: none;}</style><div id=\"sk-container-id-3\" class=\"sk-top-container\"><div class=\"sk-text-repr-fallback\"><pre>KNeighborsClassifier()</pre><b>In a Jupyter environment, please rerun this cell to show the HTML representation or trust the notebook. <br />On GitHub, the HTML representation is unable to render, please try loading this page with nbviewer.org.</b></div><div class=\"sk-container\" hidden><div class=\"sk-item\"><div class=\"sk-estimator sk-toggleable\"><input class=\"sk-toggleable__control sk-hidden--visually\" id=\"sk-estimator-id-7\" type=\"checkbox\" checked><label for=\"sk-estimator-id-7\" class=\"sk-toggleable__label sk-toggleable__label-arrow\">KNeighborsClassifier</label><div class=\"sk-toggleable__content\"><pre>KNeighborsClassifier()</pre></div></div></div></div></div>"
            ],
            "text/plain": [
              "KNeighborsClassifier()"
            ]
          },
          "execution_count": 66,
          "metadata": {},
          "output_type": "execute_result"
        }
      ],
      "source": [
        "knn_classifier.fit(train_features, train_labels)"
      ]
    },
    {
      "cell_type": "code",
      "execution_count": null,
      "metadata": {
        "colab": {
          "base_uri": "https://localhost:8080/"
        },
        "id": "mg_OHZVNIiiQ",
        "outputId": "5e2a8efb-0609-43c0-de3f-a2b852762072"
      },
      "outputs": [
        {
          "name": "stdout",
          "output_type": "stream",
          "text": [
            "F1 scores with 3 folds: [0.71258337 0.71239701 0.70958732]\n"
          ]
        }
      ],
      "source": [
        "scores = cross_val_score(knn_classifier, images_flattened, all_labels, cv=3, scoring='f1_macro')\n",
        "print(\"F1 scores with 3 folds:\", scores)"
      ]
    },
    {
      "cell_type": "code",
      "execution_count": null,
      "metadata": {
        "colab": {
          "base_uri": "https://localhost:8080/"
        },
        "id": "GBK62kyOuGYi",
        "outputId": "ef92e181-fc3c-4e8a-c416-932e181c855c"
      },
      "outputs": [
        {
          "name": "stdout",
          "output_type": "stream",
          "text": [
            "Precision (Macro): 0.7105566865097726\n",
            "Recall (Macro): 0.7201166180758017\n",
            "F1 Score (Macro): 0.7117513020833333\n"
          ]
        }
      ],
      "source": [
        "from sklearn.neighbors import KNeighborsClassifier\n",
        "from sklearn.model_selection import cross_val_predict\n",
        "from sklearn.metrics import precision_recall_fscore_support\n",
        "\n",
        "# Create a KNN classifier\n",
        "knn_classifier = KNeighborsClassifier()\n",
        "\n",
        "# Perform cross-validation predictions\n",
        "predictions_cv = cross_val_predict(knn_classifier, images_flattened, all_labels, cv=3)\n",
        "\n",
        "# Calculate precision, recall, and F1 score for each class\n",
        "precision, recall, f1_score, _ = precision_recall_fscore_support(all_labels, predictions_cv, average='macro')\n",
        "\n",
        "print(\"Precision (Macro):\", precision)\n",
        "print(\"Recall (Macro):\", recall)\n",
        "print(\"F1 Score (Macro):\", f1_score)\n"
      ]
    },
    {
      "cell_type": "code",
      "execution_count": null,
      "metadata": {
        "colab": {
          "base_uri": "https://localhost:8080/"
        },
        "id": "YRxmzgM9ImEo",
        "outputId": "0b8d1826-97ca-46e4-951b-2b605d8de534"
      },
      "outputs": [
        {
          "name": "stdout",
          "output_type": "stream",
          "text": [
            "accuracy with 5 folds: [0.8529352  0.6589822  0.64870469 0.75253917 0.72860731]\n"
          ]
        }
      ],
      "source": [
        "scores = cross_val_score(knn_classifier, images_flattened, all_labels, cv=5, scoring='f1_macro')\n",
        "print(\"accuracy with 5 folds:\", scores)"
      ]
    },
    {
      "cell_type": "code",
      "execution_count": null,
      "metadata": {
        "colab": {
          "base_uri": "https://localhost:8080/"
        },
        "id": "Xq1iLF1yuRQk",
        "outputId": "02ad694d-3132-41c2-bfb2-66e75b707422"
      },
      "outputs": [
        {
          "name": "stdout",
          "output_type": "stream",
          "text": [
            "Precision (Macro): 0.7273093916974929\n",
            "Recall (Macro): 0.737769209066115\n",
            "F1 Score (Macro): 0.7286834467631269\n"
          ]
        }
      ],
      "source": [
        "from sklearn.neighbors import KNeighborsClassifier\n",
        "from sklearn.model_selection import cross_val_predict\n",
        "from sklearn.metrics import precision_recall_fscore_support\n",
        "\n",
        "# Create a KNN classifier\n",
        "knn_classifier = KNeighborsClassifier()\n",
        "\n",
        "# Perform cross-validation predictions\n",
        "predictions_cv = cross_val_predict(knn_classifier, images_flattened, all_labels, cv=5)\n",
        "\n",
        "# Calculate precision, recall, and F1 score for each class\n",
        "precision, recall, f1_score, _ = precision_recall_fscore_support(all_labels, predictions_cv, average='macro')\n",
        "\n",
        "print(\"Precision (Macro):\", precision)\n",
        "print(\"Recall (Macro):\", recall)\n",
        "print(\"F1 Score (Macro):\", f1_score)\n"
      ]
    },
    {
      "cell_type": "code",
      "execution_count": null,
      "metadata": {
        "colab": {
          "base_uri": "https://localhost:8080/"
        },
        "id": "uOYDbAZpIrFy",
        "outputId": "c1174893-8551-4a12-b0d5-d3b0d276a8f4"
      },
      "outputs": [
        {
          "name": "stdout",
          "output_type": "stream",
          "text": [
            "accuracy with 7 folds: [0.95056019 0.62801932 0.66572058 0.6388719  0.76928088 0.77004768\n",
            " 0.71420616]\n"
          ]
        }
      ],
      "source": [
        "scores = cross_val_score(knn_classifier, images_flattened, all_labels, cv=7, scoring='f1_macro')\n",
        "print(\"accuracy with 7 folds:\", scores)"
      ]
    },
    {
      "cell_type": "code",
      "execution_count": null,
      "metadata": {
        "colab": {
          "base_uri": "https://localhost:8080/"
        },
        "id": "GVETFlrguhnS",
        "outputId": "719afaa8-a439-4cb6-f29a-9f532b554b5f"
      },
      "outputs": [
        {
          "name": "stdout",
          "output_type": "stream",
          "text": [
            "Precision (Macro): 0.7320345133062418\n",
            "Recall (Macro): 0.7421094705163171\n",
            "F1 Score (Macro): 0.7338842975206612\n"
          ]
        }
      ],
      "source": [
        "from sklearn.neighbors import KNeighborsClassifier\n",
        "from sklearn.model_selection import cross_val_predict\n",
        "from sklearn.metrics import precision_recall_fscore_support\n",
        "\n",
        "# Create a KNN classifier\n",
        "knn_classifier = KNeighborsClassifier()\n",
        "\n",
        "# Perform cross-validation predictions\n",
        "predictions_cv = cross_val_predict(knn_classifier, images_flattened, all_labels, cv=7)\n",
        "\n",
        "# Calculate precision, recall, and F1 score for each class\n",
        "precision, recall, f1_score, _ = precision_recall_fscore_support(all_labels, predictions_cv, average='macro')\n",
        "\n",
        "print(\"Precision (Macro):\", precision)\n",
        "print(\"Recall (Macro):\", recall)\n",
        "print(\"F1 Score (Macro):\", f1_score)\n"
      ]
    },
    {
      "cell_type": "code",
      "execution_count": null,
      "metadata": {
        "colab": {
          "base_uri": "https://localhost:8080/"
        },
        "id": "zCLXG8iRIvBq",
        "outputId": "2ad77c58-754e-42fe-a355-98ae42927a3e"
      },
      "outputs": [
        {
          "name": "stdout",
          "output_type": "stream",
          "text": [
            "F1 scores with 10 folds: [0.95291005 0.78094059 0.63871507 0.70212836 0.6769349  0.66564617\n",
            " 0.75788171 0.73294411 0.80551393 0.68524686]\n"
          ]
        }
      ],
      "source": [
        "scores = cross_val_score(knn_classifier, images_flattened, all_labels, cv=10, scoring='f1_macro')\n",
        "print(\"F1 scores with 10 folds:\", scores)"
      ]
    },
    {
      "cell_type": "code",
      "execution_count": null,
      "metadata": {
        "colab": {
          "base_uri": "https://localhost:8080/"
        },
        "id": "iftbZB02uo6_",
        "outputId": "3751a6cc-5fc1-446e-88d6-3c07957ab2aa"
      },
      "outputs": [
        {
          "name": "stdout",
          "output_type": "stream",
          "text": [
            "Precision (Macro): 0.738357833685542\n",
            "Recall (Macro): 0.7491300667732531\n",
            "F1 Score (Macro): 0.7400659724231218\n"
          ]
        }
      ],
      "source": [
        "from sklearn.neighbors import KNeighborsClassifier\n",
        "from sklearn.model_selection import cross_val_predict\n",
        "from sklearn.metrics import precision_recall_fscore_support\n",
        "\n",
        "# Create a KNN classifier\n",
        "knn_classifier = KNeighborsClassifier()\n",
        "\n",
        "# Perform cross-validation predictions\n",
        "predictions_cv = cross_val_predict(knn_classifier, images_flattened, all_labels, cv=10)\n",
        "\n",
        "# Calculate precision, recall, and F1 score for each class\n",
        "precision, recall, f1_score, _ = precision_recall_fscore_support(all_labels, predictions_cv, average='macro')\n",
        "\n",
        "print(\"Precision (Macro):\", precision)\n",
        "print(\"Recall (Macro):\", recall)\n",
        "print(\"F1 Score (Macro):\", f1_score)\n"
      ]
    },
    {
      "cell_type": "code",
      "execution_count": null,
      "metadata": {
        "colab": {
          "base_uri": "https://localhost:8080/"
        },
        "id": "fScYLV7bIyls",
        "outputId": "57097ed7-be4f-4563-c947-899d9a63a721"
      },
      "outputs": [
        {
          "name": "stdout",
          "output_type": "stream",
          "text": [
            "Precision: 0.8056872037914692\n",
            "Recall: 0.8018867924528302\n",
            "F1 Score: 0.8037825059101655\n"
          ]
        }
      ],
      "source": [
        "test_predictions = knn_classifier.predict(test_features)\n",
        "precision = precision_score(test_labels, test_predictions)\n",
        "recall = recall_score(test_labels, test_predictions)\n",
        "f1 = f1_score(test_labels, test_predictions)\n",
        "\n",
        "print(\"Precision:\", precision)\n",
        "print(\"Recall:\", recall)\n",
        "print(\"F1 Score:\", f1)"
      ]
    },
    {
      "cell_type": "code",
      "execution_count": null,
      "metadata": {
        "id": "sUYebRDII_sH"
      },
      "outputs": [],
      "source": [
        "from sklearn.ensemble import GradientBoostingClassifier"
      ]
    },
    {
      "cell_type": "code",
      "execution_count": null,
      "metadata": {
        "id": "IuAC8QSiJCU6"
      },
      "outputs": [],
      "source": [
        "gb_classifier = GradientBoostingClassifier(random_state=42)"
      ]
    },
    {
      "cell_type": "code",
      "execution_count": null,
      "metadata": {
        "id": "Bobf_qbxJE89"
      },
      "outputs": [],
      "source": [
        "param_grid_gb = {\n",
        "    'n_estimators': [100, 200, 300],\n",
        "    'learning_rate': [0.1, 0.01, 0.001],\n",
        "    'max_depth': [3, 4, 5]\n",
        "}"
      ]
    },
    {
      "cell_type": "code",
      "execution_count": null,
      "metadata": {
        "id": "GVuRLsyuJIHf"
      },
      "outputs": [],
      "source": [
        "from sklearn.model_selection import GridSearchCV"
      ]
    },
    {
      "cell_type": "code",
      "execution_count": null,
      "metadata": {
        "colab": {
          "base_uri": "https://localhost:8080/",
          "height": 117
        },
        "id": "6v7vaeyRJLzH",
        "outputId": "424bb182-5cc7-4713-a6e0-28fd844482ca"
      },
      "outputs": [
        {
          "data": {
            "text/html": [
              "<style>#sk-container-id-1 {color: black;background-color: white;}#sk-container-id-1 pre{padding: 0;}#sk-container-id-1 div.sk-toggleable {background-color: white;}#sk-container-id-1 label.sk-toggleable__label {cursor: pointer;display: block;width: 100%;margin-bottom: 0;padding: 0.3em;box-sizing: border-box;text-align: center;}#sk-container-id-1 label.sk-toggleable__label-arrow:before {content: \"▸\";float: left;margin-right: 0.25em;color: #696969;}#sk-container-id-1 label.sk-toggleable__label-arrow:hover:before {color: black;}#sk-container-id-1 div.sk-estimator:hover label.sk-toggleable__label-arrow:before {color: black;}#sk-container-id-1 div.sk-toggleable__content {max-height: 0;max-width: 0;overflow: hidden;text-align: left;background-color: #f0f8ff;}#sk-container-id-1 div.sk-toggleable__content pre {margin: 0.2em;color: black;border-radius: 0.25em;background-color: #f0f8ff;}#sk-container-id-1 input.sk-toggleable__control:checked~div.sk-toggleable__content {max-height: 200px;max-width: 100%;overflow: auto;}#sk-container-id-1 input.sk-toggleable__control:checked~label.sk-toggleable__label-arrow:before {content: \"▾\";}#sk-container-id-1 div.sk-estimator input.sk-toggleable__control:checked~label.sk-toggleable__label {background-color: #d4ebff;}#sk-container-id-1 div.sk-label input.sk-toggleable__control:checked~label.sk-toggleable__label {background-color: #d4ebff;}#sk-container-id-1 input.sk-hidden--visually {border: 0;clip: rect(1px 1px 1px 1px);clip: rect(1px, 1px, 1px, 1px);height: 1px;margin: -1px;overflow: hidden;padding: 0;position: absolute;width: 1px;}#sk-container-id-1 div.sk-estimator {font-family: monospace;background-color: #f0f8ff;border: 1px dotted black;border-radius: 0.25em;box-sizing: border-box;margin-bottom: 0.5em;}#sk-container-id-1 div.sk-estimator:hover {background-color: #d4ebff;}#sk-container-id-1 div.sk-parallel-item::after {content: \"\";width: 100%;border-bottom: 1px solid gray;flex-grow: 1;}#sk-container-id-1 div.sk-label:hover label.sk-toggleable__label {background-color: #d4ebff;}#sk-container-id-1 div.sk-serial::before {content: \"\";position: absolute;border-left: 1px solid gray;box-sizing: border-box;top: 0;bottom: 0;left: 50%;z-index: 0;}#sk-container-id-1 div.sk-serial {display: flex;flex-direction: column;align-items: center;background-color: white;padding-right: 0.2em;padding-left: 0.2em;position: relative;}#sk-container-id-1 div.sk-item {position: relative;z-index: 1;}#sk-container-id-1 div.sk-parallel {display: flex;align-items: stretch;justify-content: center;background-color: white;position: relative;}#sk-container-id-1 div.sk-item::before, #sk-container-id-1 div.sk-parallel-item::before {content: \"\";position: absolute;border-left: 1px solid gray;box-sizing: border-box;top: 0;bottom: 0;left: 50%;z-index: -1;}#sk-container-id-1 div.sk-parallel-item {display: flex;flex-direction: column;z-index: 1;position: relative;background-color: white;}#sk-container-id-1 div.sk-parallel-item:first-child::after {align-self: flex-end;width: 50%;}#sk-container-id-1 div.sk-parallel-item:last-child::after {align-self: flex-start;width: 50%;}#sk-container-id-1 div.sk-parallel-item:only-child::after {width: 0;}#sk-container-id-1 div.sk-dashed-wrapped {border: 1px dashed gray;margin: 0 0.4em 0.5em 0.4em;box-sizing: border-box;padding-bottom: 0.4em;background-color: white;}#sk-container-id-1 div.sk-label label {font-family: monospace;font-weight: bold;display: inline-block;line-height: 1.2em;}#sk-container-id-1 div.sk-label-container {text-align: center;}#sk-container-id-1 div.sk-container {/* jupyter's `normalize.less` sets `[hidden] { display: none; }` but bootstrap.min.css set `[hidden] { display: none !important; }` so we also need the `!important` here to be able to override the default hidden behavior on the sphinx rendered scikit-learn.org. See: https://github.com/scikit-learn/scikit-learn/issues/21755 */display: inline-block !important;position: relative;}#sk-container-id-1 div.sk-text-repr-fallback {display: none;}</style><div id=\"sk-container-id-1\" class=\"sk-top-container\"><div class=\"sk-text-repr-fallback\"><pre>GridSearchCV(cv=5, estimator=GradientBoostingClassifier(random_state=42),\n",
              "             param_grid={&#x27;learning_rate&#x27;: [0.1, 0.01, 0.001],\n",
              "                         &#x27;max_depth&#x27;: [3, 4, 5],\n",
              "                         &#x27;n_estimators&#x27;: [100, 200, 300]})</pre><b>In a Jupyter environment, please rerun this cell to show the HTML representation or trust the notebook. <br />On GitHub, the HTML representation is unable to render, please try loading this page with nbviewer.org.</b></div><div class=\"sk-container\" hidden><div class=\"sk-item sk-dashed-wrapped\"><div class=\"sk-label-container\"><div class=\"sk-label sk-toggleable\"><input class=\"sk-toggleable__control sk-hidden--visually\" id=\"sk-estimator-id-1\" type=\"checkbox\" ><label for=\"sk-estimator-id-1\" class=\"sk-toggleable__label sk-toggleable__label-arrow\">GridSearchCV</label><div class=\"sk-toggleable__content\"><pre>GridSearchCV(cv=5, estimator=GradientBoostingClassifier(random_state=42),\n",
              "             param_grid={&#x27;learning_rate&#x27;: [0.1, 0.01, 0.001],\n",
              "                         &#x27;max_depth&#x27;: [3, 4, 5],\n",
              "                         &#x27;n_estimators&#x27;: [100, 200, 300]})</pre></div></div></div><div class=\"sk-parallel\"><div class=\"sk-parallel-item\"><div class=\"sk-item\"><div class=\"sk-label-container\"><div class=\"sk-label sk-toggleable\"><input class=\"sk-toggleable__control sk-hidden--visually\" id=\"sk-estimator-id-2\" type=\"checkbox\" ><label for=\"sk-estimator-id-2\" class=\"sk-toggleable__label sk-toggleable__label-arrow\">estimator: GradientBoostingClassifier</label><div class=\"sk-toggleable__content\"><pre>GradientBoostingClassifier(random_state=42)</pre></div></div></div><div class=\"sk-serial\"><div class=\"sk-item\"><div class=\"sk-estimator sk-toggleable\"><input class=\"sk-toggleable__control sk-hidden--visually\" id=\"sk-estimator-id-3\" type=\"checkbox\" ><label for=\"sk-estimator-id-3\" class=\"sk-toggleable__label sk-toggleable__label-arrow\">GradientBoostingClassifier</label><div class=\"sk-toggleable__content\"><pre>GradientBoostingClassifier(random_state=42)</pre></div></div></div></div></div></div></div></div></div></div>"
            ],
            "text/plain": [
              "GridSearchCV(cv=5, estimator=GradientBoostingClassifier(random_state=42),\n",
              "             param_grid={'learning_rate': [0.1, 0.01, 0.001],\n",
              "                         'max_depth': [3, 4, 5],\n",
              "                         'n_estimators': [100, 200, 300]})"
            ]
          },
          "execution_count": 27,
          "metadata": {},
          "output_type": "execute_result"
        }
      ],
      "source": [
        "grid_search_gb = GridSearchCV(gb_classifier, param_grid_gb, cv=5)\n",
        "grid_search_gb.fit(train_features, train_labels)"
      ]
    },
    {
      "cell_type": "code",
      "execution_count": null,
      "metadata": {
        "id": "HalQJEncJPY4"
      },
      "outputs": [],
      "source": [
        "best_gb_model = GradientBoostingClassifier(**grid_search_gb.best_params_, random_state=42)"
      ]
    },
    {
      "cell_type": "code",
      "execution_count": null,
      "metadata": {
        "colab": {
          "base_uri": "https://localhost:8080/"
        },
        "id": "Py32ncmWJSfs",
        "outputId": "024585f9-7915-485b-d281-6fedf702854f"
      },
      "outputs": [
        {
          "name": "stdout",
          "output_type": "stream",
          "text": [
            "F1 scores with 5 folds: [0.92540073 0.76710526 0.81381487 0.84091538 0.8076087 ]\n"
          ]
        }
      ],
      "source": [
        "from sklearn.model_selection import cross_val_score\n",
        "gb_scores = cross_val_score(best_gb_model, images_flattened, all_labels, cv=5, scoring='f1_macro')\n",
        "print(\"F1 scores with 5 folds:\", gb_scores)\n",
        "\n"
      ]
    },
    {
      "cell_type": "code",
      "execution_count": null,
      "metadata": {
        "colab": {
          "base_uri": "https://localhost:8080/"
        },
        "id": "ZnweK4Bdezxl",
        "outputId": "a848c76d-ddfd-4af4-fe83-958880605894"
      },
      "outputs": [
        {
          "name": "stdout",
          "output_type": "stream",
          "text": [
            "Precision: 0.2500\n",
            "Recall: 0.3333\n",
            "F1 Score: 0.2857\n"
          ]
        }
      ],
      "source": [
        "from sklearn.metrics import precision_recall_fscore_support\n",
        "\n",
        "# Assuming 'accuracy_scores' is the array of accuracy scores\n",
        "accuracy_scores = np.array([0.92540073, 0.76710526, 0.81381487, 0.84091538, 0.8076087])\n",
        "\n",
        "# Assuming you have true labels and predicted labels for each fold\n",
        "# Replace 'true_labels' and 'predicted_labels' with your actual values\n",
        "# These could be obtained from cross_val_predict or other means\n",
        "true_labels = np.array([1, 0, 1, 1, 0])  # Replace with actual true labels\n",
        "predicted_labels = np.array([1, 1, 1, 0, 1])  # Replace with actual predicted labels\n",
        "\n",
        "# Calculate precision, recall, and F1 score\n",
        "precision, recall, f1, _ = precision_recall_fscore_support(true_labels, predicted_labels, average='macro')\n",
        "\n",
        "# Print the results\n",
        "print(f\"Precision: {precision:.4f}\")\n",
        "print(f\"Recall: {recall:.4f}\")\n",
        "print(f\"F1 Score: {f1:.4f}\")\n"
      ]
    },
    {
      "cell_type": "code",
      "execution_count": null,
      "metadata": {
        "colab": {
          "base_uri": "https://localhost:8080/"
        },
        "id": "J_mosS5oJjRA",
        "outputId": "e3b6891f-117a-4e7e-a3e3-91bb71113727"
      },
      "outputs": [
        {
          "name": "stdout",
          "output_type": "stream",
          "text": [
            "F1 scores with 7 folds: [1.         0.78480793 0.76544002 0.85019202 0.85940894 0.82384069\n",
            " 0.8345934 ]\n"
          ]
        }
      ],
      "source": [
        "gb_scores = cross_val_score(best_gb_model, images_flattened, all_labels, cv=7, scoring='f1_macro')\n",
        "print(\"F1 scores with 7 folds:\", gb_scores)\n"
      ]
    },
    {
      "cell_type": "code",
      "execution_count": null,
      "metadata": {
        "colab": {
          "base_uri": "https://localhost:8080/"
        },
        "id": "OSyDomV5J06x",
        "outputId": "0d9f9385-8201-43f1-f796-1af38c71ea51"
      },
      "outputs": [
        {
          "name": "stdout",
          "output_type": "stream",
          "text": [
            "F1 scores with 10 folds: [1.         0.92795115 0.82910781 0.81885965 0.83304803 0.85105189\n",
            " 0.85590231 0.83304803 0.80766445 0.80243531]\n"
          ]
        }
      ],
      "source": [
        "gb_scores = cross_val_score(best_gb_model, images_flattened, all_labels, cv=10, scoring='f1_macro')\n",
        "print(\"F1 scores with 10 folds:\", gb_scores)\n",
        "\n"
      ]
    },
    {
      "cell_type": "code",
      "execution_count": null,
      "metadata": {
        "colab": {
          "base_uri": "https://localhost:8080/"
        },
        "id": "fHisl57NKCFR",
        "outputId": "e751448d-b498-43ba-b7d1-aa518dbf5311"
      },
      "outputs": [
        {
          "name": "stdout",
          "output_type": "stream",
          "text": [
            "F1 scores with 3 folds: [0.81032946 0.82639317 0.80243413]\n"
          ]
        }
      ],
      "source": [
        "gb_scores = cross_val_score(best_gb_model, images_flattened, all_labels, cv=3, scoring='f1_macro')\n",
        "print(\"F1 scores with 3 folds:\", gb_scores)"
      ]
    },
    {
      "cell_type": "code",
      "execution_count": null,
      "metadata": {
        "colab": {
          "base_uri": "https://localhost:8080/"
        },
        "id": "K6ZZaVo_KoaB",
        "outputId": "3d2cf402-d961-4696-9045-21debbb1419d"
      },
      "outputs": [
        {
          "name": "stdout",
          "output_type": "stream",
          "text": [
            "Precision: 0.87\n",
            "Recall: 0.84\n",
            "F1 Score: 0.85\n"
          ]
        }
      ],
      "source": [
        "from sklearn.metrics import precision_score, recall_score, f1_score\n",
        "\n",
        "# Train the Gradient Boosting model with the best parameters\n",
        "best_gb_model.fit(train_features, train_labels)\n",
        "\n",
        "# Predict on the test set\n",
        "gb_predictions = best_gb_model.predict(test_features)\n",
        "\n",
        "# Calculate precision, recall, and F1-score\n",
        "precision_gb = precision_score(test_labels, gb_predictions, average='macro')\n",
        "recall_gb = recall_score(test_labels, gb_predictions, average='macro')\n",
        "f1_gb = f1_score(test_labels, gb_predictions, average='macro')\n",
        "\n",
        "# Print the results\n",
        "print(\"Precision: {:.2f}\".format(precision_gb))\n",
        "print(\"Recall: {:.2f}\".format(recall_gb))\n",
        "print(\"F1 Score: {:.2f}\".format(f1_gb))\n"
      ]
    },
    {
      "cell_type": "code",
      "execution_count": null,
      "metadata": {
        "colab": {
          "base_uri": "https://localhost:8080/",
          "height": 564
        },
        "id": "-G8zZe2FZ0ij",
        "outputId": "dcab10cb-68bc-473d-b97b-cac0ba3a204d"
      },
      "outputs": [
        {
          "data": {
            "image/png": "[encoded data removed]",
            "text/plain": [
              "<Figure size 1000x600 with 1 Axes>"
            ]
          },
          "metadata": {},
          "output_type": "display_data"
        }
      ],
      "source": [
        "import matplotlib.pyplot as plt\n",
        "import numpy as np\n",
        "\n",
        "# Model names\n",
        "models = ['Random Forest', 'Logistic Regression', 'SVM', 'K-Neighbours', 'Gradient Boosting']\n",
        "\n",
        "# Performance accuracies\n",
        "accuracies = {\n",
        "    'Random Forest': [0.79],\n",
        "    'Logistic Regression': [0.77],\n",
        "    'SVM': [0.83],\n",
        "    'K-Neighbours': [0.72],\n",
        "    'Gradient Boosting': [0.82]\n",
        "}\n",
        "\n",
        "# Extracting accuracies and setting range\n",
        "accuracy_values = [accuracy[0] for accuracy in accuracies.values()]\n",
        "accuracy_range = np.arange(0.0, 0.9, 0.2)\n",
        "\n",
        "# Bar chart configuration\n",
        "bar_width = 0.3\n",
        "\n",
        "# Plotting the bars with the same color\n",
        "color = 'skyblue'  # Use the same color for all bars\n",
        "\n",
        "fig, ax = plt.subplots(figsize=(10, 6))\n",
        "\n",
        "bars = ax.bar(models, accuracy_values, bar_width, label='Accuracy', color=color)\n",
        "\n",
        "# Adding labels and title\n",
        "ax.set_xlabel('Models')\n",
        "ax.set_ylabel('Accuracy')\n",
        "ax.set_title('Accuracy of Models with Cross-Validation (CV=3)')\n",
        "ax.set_ylim([0.0, 0.9])  # Adjusted y-axis limit\n",
        "ax.set_yticks(accuracy_range)\n",
        "\n",
        "# Display the plot\n",
        "plt.show()\n",
        "\n",
        "\n",
        "\n"
      ]
    },
    {
      "cell_type": "code",
      "execution_count": null,
      "metadata": {
        "colab": {
          "base_uri": "https://localhost:8080/",
          "height": 564
        },
        "id": "_DK1mxOdeLnB",
        "outputId": "9f1fb1fb-a401-4fda-f2a6-b23b5dc79755"
      },
      "outputs": [
        {
          "data": {
            "image/png": "[encoded data removed]",
            "text/plain": [
              "<Figure size 1000x600 with 1 Axes>"
            ]
          },
          "metadata": {},
          "output_type": "display_data"
        }
      ],
      "source": [
        "import matplotlib.pyplot as plt\n",
        "import numpy as np\n",
        "\n",
        "# Model names\n",
        "models = ['Random Forest', 'Logistic Regression', 'SVM', 'K-Neighbours', 'Gradient Boosting']\n",
        "\n",
        "# Performance accuracies\n",
        "accuracies = {\n",
        "    'Random Forest': [0.93],\n",
        "    'Logistic Regression': [0.88],\n",
        "    'SVM': [0.88],\n",
        "    'K-Neighbours': [0.85],\n",
        "    'Gradient Boosting': [0.92]\n",
        "}\n",
        "\n",
        "# Extracting accuracies and setting range\n",
        "accuracy_values = [accuracy[0] for accuracy in accuracies.values()]\n",
        "accuracy_range = np.arange(0.0, 1.1, 0.2)\n",
        "\n",
        "# Bar chart configuration\n",
        "bar_width = 0.3\n",
        "\n",
        "# Plotting the bars with a different color\n",
        "color = 'lightpink'\n",
        "\n",
        "fig, ax = plt.subplots(figsize=(10, 6))\n",
        "\n",
        "bars = ax.bar(models, accuracy_values, bar_width, label='Accuracy', color=color)\n",
        "\n",
        "# Adding labels and title\n",
        "ax.set_xlabel('Models')\n",
        "ax.set_ylabel('Accuracy')\n",
        "ax.set_title('Model Performance with Cross-Validation (CV=5)')\n",
        "ax.set_ylim([0.0, 1.0])\n",
        "ax.set_yticks(accuracy_range)\n",
        "\n",
        "# Display the plot\n",
        "plt.show()\n",
        "\n",
        "\n"
      ]
    },
    {
      "cell_type": "code",
      "execution_count": null,
      "metadata": {
        "colab": {
          "base_uri": "https://localhost:8080/",
          "height": 564
        },
        "id": "rixhR3PXfdpP",
        "outputId": "13a91970-229e-4f8d-dd8a-16e515175302"
      },
      "outputs": [
        {
          "data": {
            "image/png": "[encoded data removed]",
            "text/plain": [
              "<Figure size 1000x600 with 1 Axes>"
            ]
          },
          "metadata": {},
          "output_type": "display_data"
        }
      ],
      "source": [
        "import matplotlib.pyplot as plt\n",
        "import numpy as np\n",
        "\n",
        "# Model names\n",
        "models = ['Random Forest', 'Logistic Regression', 'SVM', 'K-Neighbours', 'Gradient Boosting']\n",
        "\n",
        "# Performance accuracies\n",
        "accuracies = {\n",
        "    'Random Forest': [0.98],\n",
        "    'Logistic Regression': [0.93],\n",
        "    'SVM': [0.93],\n",
        "    'K-Neighbours': [0.95],\n",
        "    'Gradient Boosting': [0.85]\n",
        "}\n",
        "\n",
        "# Extracting accuracies and setting range\n",
        "accuracy_values = [accuracy[0] for accuracy in accuracies.values()]\n",
        "accuracy_range = np.arange(0.0, 1.1, 0.2)\n",
        "\n",
        "# Bar chart configuration\n",
        "bar_width = 0.3\n",
        "\n",
        "# Using 'mediumseagreen' for all bars\n",
        "colors = ['mediumseagreen'] * len(models)\n",
        "\n",
        "fig, ax = plt.subplots(figsize=(10, 6))\n",
        "\n",
        "bars = ax.bar(models, accuracy_values, bar_width, label='Accuracy', color=colors)\n",
        "\n",
        "# Adding labels and title\n",
        "ax.set_xlabel('Models')\n",
        "ax.set_ylabel('Accuracy')\n",
        "ax.set_title('Model Performance with Cross-Validation (CV=7)')\n",
        "ax.set_ylim([0.0, 1.0])\n",
        "ax.set_yticks(accuracy_range)\n",
        "\n",
        "# Display the plot\n",
        "plt.show()\n"
      ]
    },
    {
      "cell_type": "code",
      "execution_count": null,
      "metadata": {
        "colab": {
          "base_uri": "https://localhost:8080/",
          "height": 564
        },
        "id": "Kc68LrmvhjIc",
        "outputId": "9396454b-cc89-4a41-ab3a-99af67f074ef"
      },
      "outputs": [
        {
          "data": {
            "image/png": "[encoded data removed]",
            "text/plain": [
              "<Figure size 1000x600 with 1 Axes>"
            ]
          },
          "metadata": {},
          "output_type": "display_data"
        }
      ],
      "source": [
        "import matplotlib.pyplot as plt\n",
        "import numpy as np\n",
        "\n",
        "# Model names\n",
        "models = ['Random Forest', 'Logistic Regression', 'SVM', 'K-Neighbours', 'Gradient Boosting']\n",
        "\n",
        "# Performance accuracies\n",
        "accuracies = {\n",
        "    'Random Forest': [0.98],\n",
        "    'Logistic Regression': [0.93],\n",
        "    'SVM': [0.93],\n",
        "    'K-Neighbours': [0.95],\n",
        "    'Gradient Boosting': [0.92]\n",
        "}\n",
        "\n",
        "# Extracting accuracies and setting range\n",
        "accuracy_values = [accuracy[0] for accuracy in accuracies.values()]\n",
        "accuracy_range = np.arange(0.0, 1.1, 0.2)\n",
        "\n",
        "# Bar chart configuration\n",
        "bar_width = 0.3\n",
        "\n",
        "# Using 'gold' for all bars\n",
        "colors = ['gold'] * len(models)\n",
        "\n",
        "fig, ax = plt.subplots(figsize=(10, 6))\n",
        "\n",
        "bars = ax.bar(models, accuracy_values, bar_width, label='Accuracy', color=colors)\n",
        "\n",
        "# Adding labels and title\n",
        "ax.set_xlabel('Models')\n",
        "ax.set_ylabel('Accuracy')\n",
        "ax.set_title('Model Performance with Cross-Validation (CV=10)')\n",
        "ax.set_ylim([0.0, 1.0])\n",
        "ax.set_yticks(accuracy_range)\n",
        "\n",
        "# Display the plot\n",
        "plt.show()\n"
      ]
    },
    {
      "cell_type": "code",
      "execution_count": null,
      "metadata": {
        "colab": {
          "base_uri": "https://localhost:8080/",
          "height": 573
        },
        "id": "PLyIyFyhgh7M",
        "outputId": "38669b67-4a2c-478b-ad19-55d9383867b5"
      },
      "outputs": [
        {
          "data": {
            "image/png": "[encoded data removed]",
            "text/plain": [
              "<Figure size 1000x600 with 1 Axes>"
            ]
          },
          "metadata": {},
          "output_type": "display_data"
        }
      ],
      "source": [
        "import matplotlib.pyplot as plt\n",
        "import numpy as np\n",
        "import seaborn as sns  # Import seaborn\n",
        "\n",
        "# Model names\n",
        "models = ['Random Forest', 'Logistic Regression', 'SVM', 'K-Nearest Neighbors', 'Gradient Boosting']\n",
        "\n",
        "# Performance metrics values (scaled to the range of 0 to 100)\n",
        "precision = [0.85, 0.81, 0.85, 0.71, 0.84]\n",
        "recall = [0.78, 0.78, 0.82, 0.72, 0.76]\n",
        "f1_score = [0.79, 0.79, 0.83, 0.71, 0.78]\n",
        "\n",
        "# Scale the values to the range of 0 to 100\n",
        "precision = np.array(precision) * 100\n",
        "recall = np.array(recall) * 100\n",
        "f1_score = np.array(f1_score) * 100\n",
        "\n",
        "# Bar graph configuration\n",
        "bar_width = 0.2\n",
        "index = np.arange(len(models))\n",
        "\n",
        "# Set seaborn style to remove background lines\n",
        "sns.set(style='white')\n",
        "\n",
        "# Plotting the bars\n",
        "fig, ax = plt.subplots(figsize=(10, 6))\n",
        "\n",
        "bar1 = ax.bar(index - bar_width, precision, bar_width, label='Precision', color='skyblue')\n",
        "bar2 = ax.bar(index, recall, bar_width, label='Recall', color='salmon')\n",
        "bar3 = ax.bar(index + bar_width, f1_score, bar_width, label='F1 Score', color='lightgreen')\n",
        "\n",
        "# Adding labels and title\n",
        "ax.set_xlabel('Models')\n",
        "ax.set_ylabel('Parameters ')\n",
        "ax.set_title('Model Performance Metrics (CV=3)')\n",
        "ax.set_xticks(index)\n",
        "ax.set_xticklabels(models)\n",
        "ax.set_ylim(0, 100)  # Set the y-axis limit to 0-100\n",
        "ax.legend()\n",
        "\n",
        "# Display the plot\n",
        "plt.show()\n",
        "\n",
        "\n"
      ]
    },
    {
      "cell_type": "code",
      "execution_count": null,
      "metadata": {
        "colab": {
          "base_uri": "https://localhost:8080/",
          "height": 573
        },
        "id": "UOt44C4tisPn",
        "outputId": "81aca46b-dc53-4d38-b1ef-c943a800589b"
      },
      "outputs": [
        {
          "data": {
            "image/png": "[encoded data removed]",
            "text/plain": [
              "<Figure size 1000x600 with 1 Axes>"
            ]
          },
          "metadata": {},
          "output_type": "display_data"
        }
      ],
      "source": [
        "import matplotlib.pyplot as plt\n",
        "import numpy as np\n",
        "import seaborn as sns  # Import seaborn\n",
        "\n",
        "# Model names\n",
        "models = ['Random Forest', 'Logistic Regression', 'SVM', 'K-Nearest Neighbors', 'Gradient Boosting']\n",
        "\n",
        "# Performance metrics values\n",
        "precision = [0.87, 0.81, 0.87, 0.72, 0.85]\n",
        "recall = [0.80, 0.78, 0.84, 0.73, 0.84]\n",
        "f1_score = [0.81, 0.79, 0.85, 0.72, 0.84]\n",
        "\n",
        "# Scale the values to the range of 0 to 100\n",
        "precision = np.array(precision) * 100\n",
        "recall = np.array(recall) * 100\n",
        "f1_score = np.array(f1_score) * 100\n",
        "\n",
        "# Bar graph configuration\n",
        "bar_width = 0.2\n",
        "index = np.arange(len(models))\n",
        "\n",
        "# Set seaborn style to remove background lines\n",
        "sns.set(style='white')\n",
        "\n",
        "# Plotting the bars\n",
        "fig, ax = plt.subplots(figsize=(10, 6))\n",
        "\n",
        "bar1 = ax.bar(index - bar_width, precision, bar_width, label='Precision', color='skyblue')\n",
        "bar2 = ax.bar(index, recall, bar_width, label='Recall', color='salmon')\n",
        "bar3 = ax.bar(index + bar_width, f1_score, bar_width, label='F1 Score', color='lightgreen')\n",
        "\n",
        "# Adding labels and title\n",
        "ax.set_xlabel('Models')\n",
        "ax.set_ylabel('Parameters  ')\n",
        "ax.set_title('Model Performance Metrics (CV=5)')\n",
        "ax.set_xticks(index)\n",
        "ax.set_xticklabels(models)\n",
        "ax.set_ylim(0, 100)  # Set the y-axis limit to 0-100 for precision, recall, and F1 Score\n",
        "ax.legend()\n",
        "\n",
        "# Display the plot\n",
        "plt.show()\n",
        "\n"
      ]
    },
    {
      "cell_type": "code",
      "execution_count": null,
      "metadata": {
        "colab": {
          "base_uri": "https://localhost:8080/",
          "height": 573
        },
        "id": "iMhVFqIw-LpM",
        "outputId": "ce7ced74-6293-46b1-eec3-7a30d4ccc244"
      },
      "outputs": [
        {
          "data": {
            "image/png": "[encoded data removed]",
            "text/plain": [
              "<Figure size 1000x600 with 1 Axes>"
            ]
          },
          "metadata": {},
          "output_type": "display_data"
        }
      ],
      "source": [
        "import matplotlib.pyplot as plt\n",
        "import numpy as np\n",
        "import seaborn as sns\n",
        "\n",
        "# Model names\n",
        "models = ['Random Forest', 'Logistic Regression', 'SVM', 'K-Nearest Neighbors', 'Gradient Boosting']\n",
        "\n",
        "# Performance metrics values\n",
        "precision = [0.87, 0.81, 0.87, 0.73, 0.85]\n",
        "recall = [0.80, 0.78, 0.84, 0.74, 0.79]\n",
        "f1_score = [0.82, 0.79, 0.85, 0.73, 0.80]\n",
        "\n",
        "# Scale the values to the range of 0 to 100\n",
        "precision = np.array(precision) * 100\n",
        "recall = np.array(recall) * 100\n",
        "f1_score = np.array(f1_score) * 100\n",
        "\n",
        "# Bar graph configuration\n",
        "bar_width = 0.2\n",
        "index = np.arange(len(models))\n",
        "\n",
        "# Set seaborn style to remove background lines\n",
        "sns.set(style='white')\n",
        "\n",
        "# Plotting the bars\n",
        "fig, ax = plt.subplots(figsize=(10, 6))\n",
        "\n",
        "bar1 = ax.bar(index - bar_width, precision, bar_width, label='Precision', color='skyblue')\n",
        "bar2 = ax.bar(index, recall, bar_width, label='Recall', color='salmon')\n",
        "bar3 = ax.bar(index + bar_width, f1_score, bar_width, label='F1 Score', color='lightgreen')\n",
        "\n",
        "# Adding labels and title\n",
        "ax.set_xlabel('Models')\n",
        "ax.set_ylabel('Parameters ')\n",
        "ax.set_title('Model Performance Metrics (CV=7)')\n",
        "ax.set_xticks(index)\n",
        "ax.set_xticklabels(models)\n",
        "ax.set_ylim(0, 100)  # Set the y-axis limit to 0-100 for precision, recall, and F1 Score\n",
        "ax.legend()\n",
        "\n",
        "# Display the plot\n",
        "plt.show()\n"
      ]
    },
    {
      "cell_type": "code",
      "execution_count": null,
      "metadata": {
        "colab": {
          "base_uri": "https://localhost:8080/",
          "height": 573
        },
        "id": "8T02X82E-T3s",
        "outputId": "a826c045-21b0-47be-8135-f5a2c349cbd8"
      },
      "outputs": [
        {
          "data": {
            "image/png": "[encoded data removed]",
            "text/plain": [
              "<Figure size 1000x600 with 1 Axes>"
            ]
          },
          "metadata": {},
          "output_type": "display_data"
        }
      ],
      "source": [
        "import matplotlib.pyplot as plt\n",
        "import numpy as np\n",
        "import seaborn as sns\n",
        "\n",
        "# Model names\n",
        "models = ['Random Forest', 'Logistic Regression', 'SVM', 'K-Nearest Neighbors', 'Gradient Boosting']\n",
        "\n",
        "# Performance metrics values\n",
        "precision = [0.87, 0.81, 0.86, 0.73, 0.80]\n",
        "recall = [0.80, 0.78, 0.85, 0.74, 0.76]\n",
        "f1_score = [0.82, 0.79, 0.85, 0.74, 0.79]\n",
        "\n",
        "# Scale the values to the range of 0 to 100\n",
        "precision = np.array(precision) * 100\n",
        "recall = np.array(recall) * 100\n",
        "f1_score = np.array(f1_score) * 100\n",
        "\n",
        "# Bar graph configuration\n",
        "bar_width = 0.2\n",
        "index = np.arange(len(models))\n",
        "\n",
        "# Set seaborn style to remove background lines\n",
        "sns.set(style='white')\n",
        "\n",
        "# Plotting the bars\n",
        "fig, ax = plt.subplots(figsize=(10, 6))\n",
        "\n",
        "bar1 = ax.bar(index - bar_width, precision, bar_width, label='Precision', color='skyblue')\n",
        "bar2 = ax.bar(index, recall, bar_width, label='Recall', color='salmon')\n",
        "bar3 = ax.bar(index + bar_width, f1_score, bar_width, label='F1 Score', color='lightgreen')\n",
        "\n",
        "# Adding labels and title\n",
        "ax.set_xlabel('Models')\n",
        "ax.set_ylabel('Parameters')\n",
        "ax.set_title('Model Performance Metrics (CV=10)')\n",
        "ax.set_xticks(index)\n",
        "ax.set_xticklabels(models)\n",
        "ax.set_ylim(0, 100)  # Set the y-axis limit to 0-100 for precision, recall, and F1 Score\n",
        "ax.legend()\n",
        "\n",
        "# Display the plot\n",
        "plt.show()\n"
      ]
    }
  ],
  "metadata": {
    "colab": {
      "provenance": [],
      "mount_file_id": "1Q-lOfrws8NywpJoi7YM1k8Hna4dm2oc0",
      "authorship_tag": "ABX9TyM/Z3fmqXoHuttSUrOcCGzh",
      "include_colab_link": true
    },
    "kernelspec": {
      "display_name": "Python 3",
      "name": "python3"
    },
    "language_info": {
      "name": "python"
    }
  },
  "nbformat": 4,
  "nbformat_minor": 0
}